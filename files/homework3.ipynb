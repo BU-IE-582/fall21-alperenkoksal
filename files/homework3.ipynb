{
 "cells": [
  {
   "cell_type": "markdown",
   "id": "cd835561",
   "metadata": {},
   "source": [
    "# KNN Classification and Logistic Regression on UWaveGesture Data\n",
    "In this project, our aim is to perform knn classification with the most suitable k value and logistic regression with penalty and without penalty to predict the classes of test data instances.\n",
    "\n",
    "                                                                                    Alperen Köksal"
   ]
  },
  {
   "cell_type": "markdown",
   "id": "e1da102f",
   "metadata": {},
   "source": [
    "Required libraries are imported"
   ]
  },
  {
   "cell_type": "code",
   "execution_count": 131,
   "id": "fb6b9787",
   "metadata": {},
   "outputs": [],
   "source": [
    "#Required Libraries\n",
    "import plotly.express as px\n",
    "import pandas as pd\n",
    "import numpy as np\n",
    "import matplotlib.pyplot as plt\n",
    "import random\n",
    "import math\n",
    "from scipy.spatial import distance\n",
    "from scipy.spatial import distance_matrix\n",
    "import matplotlib.image as mpimg\n",
    "import matplotlib.patches as mpatches\n",
    "from sklearn.decomposition import PCA\n",
    "from sklearn.preprocessing import StandardScaler\n",
    "from sklearn.manifold import MDS\n",
    "from sklearn.metrics import pairwise_distances\n",
    "from sklearn import metrics\n",
    "from sklearn.neighbors import KNeighborsClassifier\n",
    "from sklearn.model_selection import GridSearchCV\n",
    "from sklearn.linear_model import LogisticRegression\n",
    "from sklearn.linear_model import LogisticRegressionCV\n",
    "import time"
   ]
  },
  {
   "cell_type": "markdown",
   "id": "913add37",
   "metadata": {},
   "source": [
    "UWaveGesture data is concatenated in a 3T length of columns."
   ]
  },
  {
   "cell_type": "code",
   "execution_count": 6,
   "id": "a8c784bf",
   "metadata": {},
   "outputs": [],
   "source": [
    "gest_train_x = pd.read_csv(\"C:/Users/a_kok/Desktop/Dersler/IE 582/HW2/uWaveGestureLibrary_X_TRAIN\",header=None, sep=\" \",\n",
    "                             prefix=\"\", skipinitialspace=True)\n",
    "gest_train_y = pd.read_csv(\"C:/Users/a_kok/Desktop/Dersler/IE 582/HW2/uWaveGestureLibrary_Y_TRAIN\",header=None, sep=\" \",\n",
    "                             prefix=\"\", skipinitialspace=True)\n",
    "gest_train_z = pd.read_csv(\"C:/Users/a_kok/Desktop/Dersler/IE 582/HW2/uWaveGestureLibrary_Z_TRAIN\",header=None, sep=\" \",\n",
    "                             prefix=\"\", skipinitialspace=True)\n",
    "gest_train_y.drop(columns = 0,inplace = True)\n",
    "gest_train_z.drop(columns = 0,inplace = True)\n",
    "gest_train_concat = pd.concat([gest_train_x, gest_train_y,gest_train_z], axis=1)\n",
    "gest_train_concat.rename(columns = {0:\"class\"},inplace = True)\n",
    "trainclass = gest_train_concat[\"class\"]\n",
    "gest_train_concat = gest_train_concat.drop(columns = \"class\")"
   ]
  },
  {
   "cell_type": "code",
   "execution_count": 7,
   "id": "2b83fadc",
   "metadata": {},
   "outputs": [],
   "source": [
    "gest_test_x = pd.read_csv(\"C:/Users/a_kok/Desktop/Dersler/IE 582/HW2/uWaveGestureLibrary_X_TEST\",header=None, sep=\" \",\n",
    "                             prefix=\"\", skipinitialspace=True)\n",
    "gest_test_y = pd.read_csv(\"C:/Users/a_kok/Desktop/Dersler/IE 582/HW2/uWaveGestureLibrary_Y_TEST\",header=None, sep=\" \",\n",
    "                             prefix=\"\", skipinitialspace=True)\n",
    "gest_test_z = pd.read_csv(\"C:/Users/a_kok/Desktop/Dersler/IE 582/HW2/uWaveGestureLibrary_Z_TEST\",header=None, sep=\" \",\n",
    "                             prefix=\"\", skipinitialspace=True)\n",
    "gest_test_y.drop(columns = 0,inplace = True)\n",
    "gest_test_z.drop(columns = 0,inplace = True)\n",
    "gest_test_concat = pd.concat([gest_test_x, gest_test_y,gest_test_z], axis=1)\n",
    "gest_test_concat.rename(columns = {0:\"class\"},inplace = True)\n",
    "testclass = gest_test_concat[\"class\"]\n",
    "testclass = pd.DataFrame(testclass)\n",
    "gest_test_concat = gest_test_concat.drop(columns = \"class\")"
   ]
  },
  {
   "cell_type": "code",
   "execution_count": 8,
   "id": "e65465a2",
   "metadata": {},
   "outputs": [
    {
     "data": {
      "text/html": [
       "<div>\n",
       "<style scoped>\n",
       "    .dataframe tbody tr th:only-of-type {\n",
       "        vertical-align: middle;\n",
       "    }\n",
       "\n",
       "    .dataframe tbody tr th {\n",
       "        vertical-align: top;\n",
       "    }\n",
       "\n",
       "    .dataframe thead th {\n",
       "        text-align: right;\n",
       "    }\n",
       "</style>\n",
       "<table border=\"1\" class=\"dataframe\">\n",
       "  <thead>\n",
       "    <tr style=\"text-align: right;\">\n",
       "      <th></th>\n",
       "      <th>1</th>\n",
       "      <th>2</th>\n",
       "      <th>3</th>\n",
       "      <th>4</th>\n",
       "      <th>5</th>\n",
       "      <th>6</th>\n",
       "      <th>7</th>\n",
       "      <th>8</th>\n",
       "      <th>9</th>\n",
       "      <th>10</th>\n",
       "      <th>...</th>\n",
       "      <th>306</th>\n",
       "      <th>307</th>\n",
       "      <th>308</th>\n",
       "      <th>309</th>\n",
       "      <th>310</th>\n",
       "      <th>311</th>\n",
       "      <th>312</th>\n",
       "      <th>313</th>\n",
       "      <th>314</th>\n",
       "      <th>315</th>\n",
       "    </tr>\n",
       "  </thead>\n",
       "  <tbody>\n",
       "    <tr>\n",
       "      <th>0</th>\n",
       "      <td>-0.304243</td>\n",
       "      <td>-0.304243</td>\n",
       "      <td>-0.304243</td>\n",
       "      <td>-0.304243</td>\n",
       "      <td>-0.304243</td>\n",
       "      <td>-0.304243</td>\n",
       "      <td>-0.304243</td>\n",
       "      <td>-0.304243</td>\n",
       "      <td>-0.304243</td>\n",
       "      <td>-0.304243</td>\n",
       "      <td>...</td>\n",
       "      <td>0.523217</td>\n",
       "      <td>0.513994</td>\n",
       "      <td>0.503481</td>\n",
       "      <td>0.492967</td>\n",
       "      <td>0.474522</td>\n",
       "      <td>0.456077</td>\n",
       "      <td>0.437632</td>\n",
       "      <td>0.419187</td>\n",
       "      <td>0.400743</td>\n",
       "      <td>0.382298</td>\n",
       "    </tr>\n",
       "    <tr>\n",
       "      <th>1</th>\n",
       "      <td>1.627311</td>\n",
       "      <td>1.627311</td>\n",
       "      <td>1.627311</td>\n",
       "      <td>1.627311</td>\n",
       "      <td>1.627311</td>\n",
       "      <td>1.627311</td>\n",
       "      <td>1.627311</td>\n",
       "      <td>1.627311</td>\n",
       "      <td>1.627311</td>\n",
       "      <td>1.627311</td>\n",
       "      <td>...</td>\n",
       "      <td>-0.427010</td>\n",
       "      <td>-0.427010</td>\n",
       "      <td>-0.427010</td>\n",
       "      <td>-0.427172</td>\n",
       "      <td>-0.428773</td>\n",
       "      <td>-0.440720</td>\n",
       "      <td>-0.452667</td>\n",
       "      <td>-0.464613</td>\n",
       "      <td>-0.476560</td>\n",
       "      <td>-0.488507</td>\n",
       "    </tr>\n",
       "    <tr>\n",
       "      <th>2</th>\n",
       "      <td>0.661277</td>\n",
       "      <td>0.661277</td>\n",
       "      <td>0.661277</td>\n",
       "      <td>0.661277</td>\n",
       "      <td>0.661277</td>\n",
       "      <td>0.661277</td>\n",
       "      <td>0.661277</td>\n",
       "      <td>0.661277</td>\n",
       "      <td>0.661277</td>\n",
       "      <td>0.661277</td>\n",
       "      <td>...</td>\n",
       "      <td>-0.862717</td>\n",
       "      <td>-0.862717</td>\n",
       "      <td>-0.862717</td>\n",
       "      <td>-0.862717</td>\n",
       "      <td>-0.862717</td>\n",
       "      <td>-0.862717</td>\n",
       "      <td>-0.862717</td>\n",
       "      <td>-0.862717</td>\n",
       "      <td>-0.862717</td>\n",
       "      <td>-0.862717</td>\n",
       "    </tr>\n",
       "    <tr>\n",
       "      <th>3</th>\n",
       "      <td>0.005185</td>\n",
       "      <td>0.005185</td>\n",
       "      <td>0.005185</td>\n",
       "      <td>0.005185</td>\n",
       "      <td>0.005185</td>\n",
       "      <td>0.005185</td>\n",
       "      <td>0.005185</td>\n",
       "      <td>0.005185</td>\n",
       "      <td>0.005185</td>\n",
       "      <td>0.005185</td>\n",
       "      <td>...</td>\n",
       "      <td>-0.187384</td>\n",
       "      <td>-0.123549</td>\n",
       "      <td>-0.055870</td>\n",
       "      <td>0.011808</td>\n",
       "      <td>0.079487</td>\n",
       "      <td>0.157056</td>\n",
       "      <td>0.253740</td>\n",
       "      <td>0.445503</td>\n",
       "      <td>0.648538</td>\n",
       "      <td>0.851573</td>\n",
       "    </tr>\n",
       "    <tr>\n",
       "      <th>4</th>\n",
       "      <td>1.286198</td>\n",
       "      <td>1.286198</td>\n",
       "      <td>1.286198</td>\n",
       "      <td>1.286198</td>\n",
       "      <td>1.286198</td>\n",
       "      <td>1.286198</td>\n",
       "      <td>1.286198</td>\n",
       "      <td>1.286198</td>\n",
       "      <td>1.286198</td>\n",
       "      <td>1.286198</td>\n",
       "      <td>...</td>\n",
       "      <td>1.867473</td>\n",
       "      <td>1.834319</td>\n",
       "      <td>1.756000</td>\n",
       "      <td>1.638582</td>\n",
       "      <td>1.521164</td>\n",
       "      <td>1.453266</td>\n",
       "      <td>1.515219</td>\n",
       "      <td>1.632637</td>\n",
       "      <td>1.750054</td>\n",
       "      <td>1.867473</td>\n",
       "    </tr>\n",
       "    <tr>\n",
       "      <th>...</th>\n",
       "      <td>...</td>\n",
       "      <td>...</td>\n",
       "      <td>...</td>\n",
       "      <td>...</td>\n",
       "      <td>...</td>\n",
       "      <td>...</td>\n",
       "      <td>...</td>\n",
       "      <td>...</td>\n",
       "      <td>...</td>\n",
       "      <td>...</td>\n",
       "      <td>...</td>\n",
       "      <td>...</td>\n",
       "      <td>...</td>\n",
       "      <td>...</td>\n",
       "      <td>...</td>\n",
       "      <td>...</td>\n",
       "      <td>...</td>\n",
       "      <td>...</td>\n",
       "      <td>...</td>\n",
       "      <td>...</td>\n",
       "      <td>...</td>\n",
       "    </tr>\n",
       "    <tr>\n",
       "      <th>891</th>\n",
       "      <td>0.117811</td>\n",
       "      <td>0.117811</td>\n",
       "      <td>0.117811</td>\n",
       "      <td>0.117811</td>\n",
       "      <td>0.117811</td>\n",
       "      <td>0.117811</td>\n",
       "      <td>0.117811</td>\n",
       "      <td>0.117811</td>\n",
       "      <td>0.117811</td>\n",
       "      <td>0.117811</td>\n",
       "      <td>...</td>\n",
       "      <td>-0.212484</td>\n",
       "      <td>-0.137582</td>\n",
       "      <td>-0.066376</td>\n",
       "      <td>-0.010642</td>\n",
       "      <td>0.026809</td>\n",
       "      <td>0.064260</td>\n",
       "      <td>0.101712</td>\n",
       "      <td>0.139163</td>\n",
       "      <td>0.176614</td>\n",
       "      <td>0.214065</td>\n",
       "    </tr>\n",
       "    <tr>\n",
       "      <th>892</th>\n",
       "      <td>-1.232590</td>\n",
       "      <td>-1.232590</td>\n",
       "      <td>-1.232590</td>\n",
       "      <td>-1.232590</td>\n",
       "      <td>-1.232590</td>\n",
       "      <td>-1.232590</td>\n",
       "      <td>-1.232590</td>\n",
       "      <td>-1.232590</td>\n",
       "      <td>-1.232590</td>\n",
       "      <td>-1.232590</td>\n",
       "      <td>...</td>\n",
       "      <td>0.222775</td>\n",
       "      <td>0.234980</td>\n",
       "      <td>0.247184</td>\n",
       "      <td>0.259389</td>\n",
       "      <td>0.271593</td>\n",
       "      <td>0.283798</td>\n",
       "      <td>0.296003</td>\n",
       "      <td>0.308207</td>\n",
       "      <td>0.320412</td>\n",
       "      <td>0.332617</td>\n",
       "    </tr>\n",
       "    <tr>\n",
       "      <th>893</th>\n",
       "      <td>0.282877</td>\n",
       "      <td>0.282877</td>\n",
       "      <td>0.282877</td>\n",
       "      <td>0.282877</td>\n",
       "      <td>0.282877</td>\n",
       "      <td>0.282877</td>\n",
       "      <td>0.282877</td>\n",
       "      <td>0.282877</td>\n",
       "      <td>0.282877</td>\n",
       "      <td>0.282877</td>\n",
       "      <td>...</td>\n",
       "      <td>-0.044573</td>\n",
       "      <td>-0.043387</td>\n",
       "      <td>-0.038164</td>\n",
       "      <td>0.000695</td>\n",
       "      <td>0.027133</td>\n",
       "      <td>0.039175</td>\n",
       "      <td>0.088921</td>\n",
       "      <td>0.158608</td>\n",
       "      <td>0.223306</td>\n",
       "      <td>0.267828</td>\n",
       "    </tr>\n",
       "    <tr>\n",
       "      <th>894</th>\n",
       "      <td>1.248704</td>\n",
       "      <td>1.248704</td>\n",
       "      <td>1.248704</td>\n",
       "      <td>1.248704</td>\n",
       "      <td>1.248704</td>\n",
       "      <td>1.248704</td>\n",
       "      <td>1.248704</td>\n",
       "      <td>1.248704</td>\n",
       "      <td>1.248704</td>\n",
       "      <td>1.248704</td>\n",
       "      <td>...</td>\n",
       "      <td>-0.160172</td>\n",
       "      <td>-0.162960</td>\n",
       "      <td>-0.190327</td>\n",
       "      <td>-0.296460</td>\n",
       "      <td>-0.407102</td>\n",
       "      <td>-0.504592</td>\n",
       "      <td>-0.559242</td>\n",
       "      <td>-0.549343</td>\n",
       "      <td>-0.505912</td>\n",
       "      <td>-0.433044</td>\n",
       "    </tr>\n",
       "    <tr>\n",
       "      <th>895</th>\n",
       "      <td>-0.168518</td>\n",
       "      <td>-0.168518</td>\n",
       "      <td>-0.168518</td>\n",
       "      <td>-0.168518</td>\n",
       "      <td>-0.168518</td>\n",
       "      <td>-0.168518</td>\n",
       "      <td>-0.168518</td>\n",
       "      <td>-0.168518</td>\n",
       "      <td>-0.168518</td>\n",
       "      <td>-0.168518</td>\n",
       "      <td>...</td>\n",
       "      <td>-0.875563</td>\n",
       "      <td>-0.875563</td>\n",
       "      <td>-0.874925</td>\n",
       "      <td>-0.869817</td>\n",
       "      <td>-0.859210</td>\n",
       "      <td>-0.848602</td>\n",
       "      <td>-0.828104</td>\n",
       "      <td>-0.800426</td>\n",
       "      <td>-0.768603</td>\n",
       "      <td>-0.736781</td>\n",
       "    </tr>\n",
       "  </tbody>\n",
       "</table>\n",
       "<p>896 rows × 945 columns</p>\n",
       "</div>"
      ],
      "text/plain": [
       "          1         2         3         4         5         6         7    \\\n",
       "0   -0.304243 -0.304243 -0.304243 -0.304243 -0.304243 -0.304243 -0.304243   \n",
       "1    1.627311  1.627311  1.627311  1.627311  1.627311  1.627311  1.627311   \n",
       "2    0.661277  0.661277  0.661277  0.661277  0.661277  0.661277  0.661277   \n",
       "3    0.005185  0.005185  0.005185  0.005185  0.005185  0.005185  0.005185   \n",
       "4    1.286198  1.286198  1.286198  1.286198  1.286198  1.286198  1.286198   \n",
       "..        ...       ...       ...       ...       ...       ...       ...   \n",
       "891  0.117811  0.117811  0.117811  0.117811  0.117811  0.117811  0.117811   \n",
       "892 -1.232590 -1.232590 -1.232590 -1.232590 -1.232590 -1.232590 -1.232590   \n",
       "893  0.282877  0.282877  0.282877  0.282877  0.282877  0.282877  0.282877   \n",
       "894  1.248704  1.248704  1.248704  1.248704  1.248704  1.248704  1.248704   \n",
       "895 -0.168518 -0.168518 -0.168518 -0.168518 -0.168518 -0.168518 -0.168518   \n",
       "\n",
       "          8         9         10   ...       306       307       308  \\\n",
       "0   -0.304243 -0.304243 -0.304243  ...  0.523217  0.513994  0.503481   \n",
       "1    1.627311  1.627311  1.627311  ... -0.427010 -0.427010 -0.427010   \n",
       "2    0.661277  0.661277  0.661277  ... -0.862717 -0.862717 -0.862717   \n",
       "3    0.005185  0.005185  0.005185  ... -0.187384 -0.123549 -0.055870   \n",
       "4    1.286198  1.286198  1.286198  ...  1.867473  1.834319  1.756000   \n",
       "..        ...       ...       ...  ...       ...       ...       ...   \n",
       "891  0.117811  0.117811  0.117811  ... -0.212484 -0.137582 -0.066376   \n",
       "892 -1.232590 -1.232590 -1.232590  ...  0.222775  0.234980  0.247184   \n",
       "893  0.282877  0.282877  0.282877  ... -0.044573 -0.043387 -0.038164   \n",
       "894  1.248704  1.248704  1.248704  ... -0.160172 -0.162960 -0.190327   \n",
       "895 -0.168518 -0.168518 -0.168518  ... -0.875563 -0.875563 -0.874925   \n",
       "\n",
       "          309       310       311       312       313       314       315  \n",
       "0    0.492967  0.474522  0.456077  0.437632  0.419187  0.400743  0.382298  \n",
       "1   -0.427172 -0.428773 -0.440720 -0.452667 -0.464613 -0.476560 -0.488507  \n",
       "2   -0.862717 -0.862717 -0.862717 -0.862717 -0.862717 -0.862717 -0.862717  \n",
       "3    0.011808  0.079487  0.157056  0.253740  0.445503  0.648538  0.851573  \n",
       "4    1.638582  1.521164  1.453266  1.515219  1.632637  1.750054  1.867473  \n",
       "..        ...       ...       ...       ...       ...       ...       ...  \n",
       "891 -0.010642  0.026809  0.064260  0.101712  0.139163  0.176614  0.214065  \n",
       "892  0.259389  0.271593  0.283798  0.296003  0.308207  0.320412  0.332617  \n",
       "893  0.000695  0.027133  0.039175  0.088921  0.158608  0.223306  0.267828  \n",
       "894 -0.296460 -0.407102 -0.504592 -0.559242 -0.549343 -0.505912 -0.433044  \n",
       "895 -0.869817 -0.859210 -0.848602 -0.828104 -0.800426 -0.768603 -0.736781  \n",
       "\n",
       "[896 rows x 945 columns]"
      ]
     },
     "execution_count": 8,
     "metadata": {},
     "output_type": "execute_result"
    }
   ],
   "source": [
    "gest_train_concat"
   ]
  },
  {
   "cell_type": "code",
   "execution_count": 9,
   "id": "8cc91bf9",
   "metadata": {},
   "outputs": [
    {
     "data": {
      "text/html": [
       "<div>\n",
       "<style scoped>\n",
       "    .dataframe tbody tr th:only-of-type {\n",
       "        vertical-align: middle;\n",
       "    }\n",
       "\n",
       "    .dataframe tbody tr th {\n",
       "        vertical-align: top;\n",
       "    }\n",
       "\n",
       "    .dataframe thead th {\n",
       "        text-align: right;\n",
       "    }\n",
       "</style>\n",
       "<table border=\"1\" class=\"dataframe\">\n",
       "  <thead>\n",
       "    <tr style=\"text-align: right;\">\n",
       "      <th></th>\n",
       "      <th>1</th>\n",
       "      <th>2</th>\n",
       "      <th>3</th>\n",
       "      <th>4</th>\n",
       "      <th>5</th>\n",
       "      <th>6</th>\n",
       "      <th>7</th>\n",
       "      <th>8</th>\n",
       "      <th>9</th>\n",
       "      <th>10</th>\n",
       "      <th>...</th>\n",
       "      <th>306</th>\n",
       "      <th>307</th>\n",
       "      <th>308</th>\n",
       "      <th>309</th>\n",
       "      <th>310</th>\n",
       "      <th>311</th>\n",
       "      <th>312</th>\n",
       "      <th>313</th>\n",
       "      <th>314</th>\n",
       "      <th>315</th>\n",
       "    </tr>\n",
       "  </thead>\n",
       "  <tbody>\n",
       "    <tr>\n",
       "      <th>0</th>\n",
       "      <td>1.557018</td>\n",
       "      <td>1.557018</td>\n",
       "      <td>1.557018</td>\n",
       "      <td>1.557018</td>\n",
       "      <td>1.557018</td>\n",
       "      <td>1.557018</td>\n",
       "      <td>1.557018</td>\n",
       "      <td>1.557018</td>\n",
       "      <td>1.557018</td>\n",
       "      <td>1.557018</td>\n",
       "      <td>...</td>\n",
       "      <td>-0.348423</td>\n",
       "      <td>-0.348423</td>\n",
       "      <td>-0.344675</td>\n",
       "      <td>-0.340728</td>\n",
       "      <td>-0.333147</td>\n",
       "      <td>-0.325423</td>\n",
       "      <td>-0.317700</td>\n",
       "      <td>-0.309976</td>\n",
       "      <td>-0.302252</td>\n",
       "      <td>-0.294528</td>\n",
       "    </tr>\n",
       "    <tr>\n",
       "      <th>1</th>\n",
       "      <td>-0.075096</td>\n",
       "      <td>-0.075096</td>\n",
       "      <td>-0.075096</td>\n",
       "      <td>-0.075096</td>\n",
       "      <td>-0.075096</td>\n",
       "      <td>-0.075096</td>\n",
       "      <td>-0.075096</td>\n",
       "      <td>-0.075096</td>\n",
       "      <td>-0.075096</td>\n",
       "      <td>-0.075096</td>\n",
       "      <td>...</td>\n",
       "      <td>0.961350</td>\n",
       "      <td>0.849142</td>\n",
       "      <td>0.725546</td>\n",
       "      <td>0.589277</td>\n",
       "      <td>0.539075</td>\n",
       "      <td>0.515810</td>\n",
       "      <td>0.515810</td>\n",
       "      <td>0.515810</td>\n",
       "      <td>0.515810</td>\n",
       "      <td>0.515810</td>\n",
       "    </tr>\n",
       "    <tr>\n",
       "      <th>2</th>\n",
       "      <td>1.509012</td>\n",
       "      <td>1.526296</td>\n",
       "      <td>1.543580</td>\n",
       "      <td>1.560865</td>\n",
       "      <td>1.573811</td>\n",
       "      <td>1.576913</td>\n",
       "      <td>1.578592</td>\n",
       "      <td>1.578592</td>\n",
       "      <td>1.578592</td>\n",
       "      <td>1.578592</td>\n",
       "      <td>...</td>\n",
       "      <td>-0.565962</td>\n",
       "      <td>-0.475680</td>\n",
       "      <td>-0.399089</td>\n",
       "      <td>-0.344074</td>\n",
       "      <td>-0.289058</td>\n",
       "      <td>-0.234042</td>\n",
       "      <td>-0.179026</td>\n",
       "      <td>-0.124011</td>\n",
       "      <td>-0.068995</td>\n",
       "      <td>-0.013979</td>\n",
       "    </tr>\n",
       "    <tr>\n",
       "      <th>3</th>\n",
       "      <td>1.303974</td>\n",
       "      <td>1.303974</td>\n",
       "      <td>1.303974</td>\n",
       "      <td>1.303974</td>\n",
       "      <td>1.303974</td>\n",
       "      <td>1.303974</td>\n",
       "      <td>1.303974</td>\n",
       "      <td>1.303974</td>\n",
       "      <td>1.303974</td>\n",
       "      <td>1.303974</td>\n",
       "      <td>...</td>\n",
       "      <td>1.044950</td>\n",
       "      <td>1.044950</td>\n",
       "      <td>1.044950</td>\n",
       "      <td>1.044950</td>\n",
       "      <td>1.079339</td>\n",
       "      <td>1.115085</td>\n",
       "      <td>1.171001</td>\n",
       "      <td>1.227442</td>\n",
       "      <td>1.283883</td>\n",
       "      <td>1.340324</td>\n",
       "    </tr>\n",
       "    <tr>\n",
       "      <th>4</th>\n",
       "      <td>1.298089</td>\n",
       "      <td>1.298089</td>\n",
       "      <td>1.298089</td>\n",
       "      <td>1.298089</td>\n",
       "      <td>1.298089</td>\n",
       "      <td>1.298089</td>\n",
       "      <td>1.298089</td>\n",
       "      <td>1.298089</td>\n",
       "      <td>1.298089</td>\n",
       "      <td>1.298089</td>\n",
       "      <td>...</td>\n",
       "      <td>-0.693460</td>\n",
       "      <td>-0.689765</td>\n",
       "      <td>-0.686070</td>\n",
       "      <td>-0.682375</td>\n",
       "      <td>-0.678680</td>\n",
       "      <td>-0.674985</td>\n",
       "      <td>-0.671290</td>\n",
       "      <td>-0.667595</td>\n",
       "      <td>-0.663900</td>\n",
       "      <td>-0.660205</td>\n",
       "    </tr>\n",
       "    <tr>\n",
       "      <th>...</th>\n",
       "      <td>...</td>\n",
       "      <td>...</td>\n",
       "      <td>...</td>\n",
       "      <td>...</td>\n",
       "      <td>...</td>\n",
       "      <td>...</td>\n",
       "      <td>...</td>\n",
       "      <td>...</td>\n",
       "      <td>...</td>\n",
       "      <td>...</td>\n",
       "      <td>...</td>\n",
       "      <td>...</td>\n",
       "      <td>...</td>\n",
       "      <td>...</td>\n",
       "      <td>...</td>\n",
       "      <td>...</td>\n",
       "      <td>...</td>\n",
       "      <td>...</td>\n",
       "      <td>...</td>\n",
       "      <td>...</td>\n",
       "      <td>...</td>\n",
       "    </tr>\n",
       "    <tr>\n",
       "      <th>3577</th>\n",
       "      <td>0.157285</td>\n",
       "      <td>0.157285</td>\n",
       "      <td>0.157285</td>\n",
       "      <td>0.157285</td>\n",
       "      <td>0.157285</td>\n",
       "      <td>0.157285</td>\n",
       "      <td>0.157285</td>\n",
       "      <td>0.157285</td>\n",
       "      <td>0.157285</td>\n",
       "      <td>0.157285</td>\n",
       "      <td>...</td>\n",
       "      <td>-0.212601</td>\n",
       "      <td>-0.202155</td>\n",
       "      <td>-0.189816</td>\n",
       "      <td>-0.149002</td>\n",
       "      <td>-0.154077</td>\n",
       "      <td>-0.180674</td>\n",
       "      <td>-0.228201</td>\n",
       "      <td>-0.256934</td>\n",
       "      <td>-0.249682</td>\n",
       "      <td>-0.202155</td>\n",
       "    </tr>\n",
       "    <tr>\n",
       "      <th>3578</th>\n",
       "      <td>0.145031</td>\n",
       "      <td>0.145031</td>\n",
       "      <td>0.145031</td>\n",
       "      <td>0.145031</td>\n",
       "      <td>0.145031</td>\n",
       "      <td>0.145031</td>\n",
       "      <td>0.175495</td>\n",
       "      <td>0.214111</td>\n",
       "      <td>0.241395</td>\n",
       "      <td>0.241395</td>\n",
       "      <td>...</td>\n",
       "      <td>0.249209</td>\n",
       "      <td>0.196203</td>\n",
       "      <td>0.142721</td>\n",
       "      <td>0.099317</td>\n",
       "      <td>0.075075</td>\n",
       "      <td>0.075075</td>\n",
       "      <td>0.075075</td>\n",
       "      <td>0.075075</td>\n",
       "      <td>0.075075</td>\n",
       "      <td>0.075075</td>\n",
       "    </tr>\n",
       "    <tr>\n",
       "      <th>3579</th>\n",
       "      <td>-1.028283</td>\n",
       "      <td>-1.028283</td>\n",
       "      <td>-1.028283</td>\n",
       "      <td>-1.028283</td>\n",
       "      <td>-1.028283</td>\n",
       "      <td>-1.028283</td>\n",
       "      <td>-1.028283</td>\n",
       "      <td>-1.028283</td>\n",
       "      <td>-1.028283</td>\n",
       "      <td>-1.028283</td>\n",
       "      <td>...</td>\n",
       "      <td>0.272432</td>\n",
       "      <td>0.243039</td>\n",
       "      <td>0.213647</td>\n",
       "      <td>0.186249</td>\n",
       "      <td>0.166012</td>\n",
       "      <td>0.159199</td>\n",
       "      <td>0.159199</td>\n",
       "      <td>0.159199</td>\n",
       "      <td>0.159199</td>\n",
       "      <td>0.159199</td>\n",
       "    </tr>\n",
       "    <tr>\n",
       "      <th>3580</th>\n",
       "      <td>-0.755221</td>\n",
       "      <td>-0.755221</td>\n",
       "      <td>-0.755221</td>\n",
       "      <td>-0.755221</td>\n",
       "      <td>-0.755221</td>\n",
       "      <td>-0.755221</td>\n",
       "      <td>-0.755221</td>\n",
       "      <td>-0.755221</td>\n",
       "      <td>-0.755221</td>\n",
       "      <td>-0.755221</td>\n",
       "      <td>...</td>\n",
       "      <td>-0.439584</td>\n",
       "      <td>-0.414049</td>\n",
       "      <td>-0.388513</td>\n",
       "      <td>-0.359231</td>\n",
       "      <td>-0.309808</td>\n",
       "      <td>-0.258860</td>\n",
       "      <td>-0.207789</td>\n",
       "      <td>-0.164342</td>\n",
       "      <td>-0.131842</td>\n",
       "      <td>-0.106307</td>\n",
       "    </tr>\n",
       "    <tr>\n",
       "      <th>3581</th>\n",
       "      <td>0.848691</td>\n",
       "      <td>0.848691</td>\n",
       "      <td>0.848691</td>\n",
       "      <td>0.848691</td>\n",
       "      <td>0.848691</td>\n",
       "      <td>0.848691</td>\n",
       "      <td>0.848691</td>\n",
       "      <td>0.848691</td>\n",
       "      <td>0.848691</td>\n",
       "      <td>0.848691</td>\n",
       "      <td>...</td>\n",
       "      <td>-0.921007</td>\n",
       "      <td>-0.906324</td>\n",
       "      <td>-0.891642</td>\n",
       "      <td>-0.876959</td>\n",
       "      <td>-0.862277</td>\n",
       "      <td>-0.847594</td>\n",
       "      <td>-0.832912</td>\n",
       "      <td>-0.818229</td>\n",
       "      <td>-0.803546</td>\n",
       "      <td>-0.788864</td>\n",
       "    </tr>\n",
       "  </tbody>\n",
       "</table>\n",
       "<p>3582 rows × 945 columns</p>\n",
       "</div>"
      ],
      "text/plain": [
       "           1         2         3         4         5         6         7    \\\n",
       "0     1.557018  1.557018  1.557018  1.557018  1.557018  1.557018  1.557018   \n",
       "1    -0.075096 -0.075096 -0.075096 -0.075096 -0.075096 -0.075096 -0.075096   \n",
       "2     1.509012  1.526296  1.543580  1.560865  1.573811  1.576913  1.578592   \n",
       "3     1.303974  1.303974  1.303974  1.303974  1.303974  1.303974  1.303974   \n",
       "4     1.298089  1.298089  1.298089  1.298089  1.298089  1.298089  1.298089   \n",
       "...        ...       ...       ...       ...       ...       ...       ...   \n",
       "3577  0.157285  0.157285  0.157285  0.157285  0.157285  0.157285  0.157285   \n",
       "3578  0.145031  0.145031  0.145031  0.145031  0.145031  0.145031  0.175495   \n",
       "3579 -1.028283 -1.028283 -1.028283 -1.028283 -1.028283 -1.028283 -1.028283   \n",
       "3580 -0.755221 -0.755221 -0.755221 -0.755221 -0.755221 -0.755221 -0.755221   \n",
       "3581  0.848691  0.848691  0.848691  0.848691  0.848691  0.848691  0.848691   \n",
       "\n",
       "           8         9         10   ...       306       307       308  \\\n",
       "0     1.557018  1.557018  1.557018  ... -0.348423 -0.348423 -0.344675   \n",
       "1    -0.075096 -0.075096 -0.075096  ...  0.961350  0.849142  0.725546   \n",
       "2     1.578592  1.578592  1.578592  ... -0.565962 -0.475680 -0.399089   \n",
       "3     1.303974  1.303974  1.303974  ...  1.044950  1.044950  1.044950   \n",
       "4     1.298089  1.298089  1.298089  ... -0.693460 -0.689765 -0.686070   \n",
       "...        ...       ...       ...  ...       ...       ...       ...   \n",
       "3577  0.157285  0.157285  0.157285  ... -0.212601 -0.202155 -0.189816   \n",
       "3578  0.214111  0.241395  0.241395  ...  0.249209  0.196203  0.142721   \n",
       "3579 -1.028283 -1.028283 -1.028283  ...  0.272432  0.243039  0.213647   \n",
       "3580 -0.755221 -0.755221 -0.755221  ... -0.439584 -0.414049 -0.388513   \n",
       "3581  0.848691  0.848691  0.848691  ... -0.921007 -0.906324 -0.891642   \n",
       "\n",
       "           309       310       311       312       313       314       315  \n",
       "0    -0.340728 -0.333147 -0.325423 -0.317700 -0.309976 -0.302252 -0.294528  \n",
       "1     0.589277  0.539075  0.515810  0.515810  0.515810  0.515810  0.515810  \n",
       "2    -0.344074 -0.289058 -0.234042 -0.179026 -0.124011 -0.068995 -0.013979  \n",
       "3     1.044950  1.079339  1.115085  1.171001  1.227442  1.283883  1.340324  \n",
       "4    -0.682375 -0.678680 -0.674985 -0.671290 -0.667595 -0.663900 -0.660205  \n",
       "...        ...       ...       ...       ...       ...       ...       ...  \n",
       "3577 -0.149002 -0.154077 -0.180674 -0.228201 -0.256934 -0.249682 -0.202155  \n",
       "3578  0.099317  0.075075  0.075075  0.075075  0.075075  0.075075  0.075075  \n",
       "3579  0.186249  0.166012  0.159199  0.159199  0.159199  0.159199  0.159199  \n",
       "3580 -0.359231 -0.309808 -0.258860 -0.207789 -0.164342 -0.131842 -0.106307  \n",
       "3581 -0.876959 -0.862277 -0.847594 -0.832912 -0.818229 -0.803546 -0.788864  \n",
       "\n",
       "[3582 rows x 945 columns]"
      ]
     },
     "execution_count": 9,
     "metadata": {},
     "output_type": "execute_result"
    }
   ],
   "source": [
    "gest_test_concat"
   ]
  },
  {
   "cell_type": "markdown",
   "id": "20c643c2",
   "metadata": {},
   "source": [
    "### Task 1 – On the use of distance information for UwaveGesture Recognition Task\n",
    "#### a)\n",
    "Two distance measures are used: manhattan and euclidean to perform the Knn classification. best k values are determined by using cross validation with 10 fold on train data. Knn classification model is fit with this k value to predict the classes of test instances\n"
   ]
  },
  {
   "cell_type": "code",
   "execution_count": 11,
   "id": "5c20c6f8",
   "metadata": {},
   "outputs": [],
   "source": [
    "np.random.seed(500)\n",
    "knn_manhattan = KNeighborsClassifier(p=1)\n",
    "knn_euclidean = KNeighborsClassifier(p=2)"
   ]
  },
  {
   "cell_type": "code",
   "execution_count": 12,
   "id": "12310512",
   "metadata": {},
   "outputs": [],
   "source": [
    "param_grid={'n_neighbors': list(range(1,26))}"
   ]
  },
  {
   "cell_type": "code",
   "execution_count": 13,
   "id": "3b10e9bd",
   "metadata": {},
   "outputs": [],
   "source": [
    "knn_gscv_manhattan = GridSearchCV(knn_manhattan, param_grid, cv=10)\n",
    "knn_gscv_euclidean = GridSearchCV(knn_euclidean, param_grid, cv=10)"
   ]
  },
  {
   "cell_type": "code",
   "execution_count": 14,
   "id": "35ee477f",
   "metadata": {},
   "outputs": [
    {
     "data": {
      "text/plain": [
       "GridSearchCV(cv=10, estimator=KNeighborsClassifier(),\n",
       "             param_grid={'n_neighbors': [1, 2, 3, 4, 5, 6, 7, 8, 9, 10, 11, 12,\n",
       "                                         13, 14, 15, 16, 17, 18, 19, 20, 21, 22,\n",
       "                                         23, 24, 25]})"
      ]
     },
     "execution_count": 14,
     "metadata": {},
     "output_type": "execute_result"
    }
   ],
   "source": [
    "knn_gscv_manhattan.fit(gest_train_concat, trainclass)\n",
    "knn_gscv_euclidean.fit(gest_train_concat, trainclass)"
   ]
  },
  {
   "cell_type": "markdown",
   "id": "41b7be25",
   "metadata": {},
   "source": [
    "Best k values are 1 and 3 for the manhattan and euclidean distance knn classification"
   ]
  },
  {
   "cell_type": "code",
   "execution_count": 15,
   "id": "2b06bb5f",
   "metadata": {},
   "outputs": [
    {
     "name": "stdout",
     "output_type": "stream",
     "text": [
      "{'n_neighbors': 1}\n",
      "0.9587390761548065\n"
     ]
    }
   ],
   "source": [
    "print(knn_gscv_manhattan.best_params_)\n",
    "print(knn_gscv_manhattan.best_score_)"
   ]
  },
  {
   "cell_type": "code",
   "execution_count": 16,
   "id": "31b12d17",
   "metadata": {},
   "outputs": [
    {
     "name": "stdout",
     "output_type": "stream",
     "text": [
      "{'n_neighbors': 3}\n",
      "0.9441947565543071\n"
     ]
    }
   ],
   "source": [
    "print(knn_gscv_euclidean.best_params_)\n",
    "print(knn_gscv_euclidean.best_score_)"
   ]
  },
  {
   "cell_type": "code",
   "execution_count": 133,
   "id": "1c381a49",
   "metadata": {},
   "outputs": [
    {
     "data": {
      "text/plain": [
       "3.946470022201538"
      ]
     },
     "execution_count": 133,
     "metadata": {},
     "output_type": "execute_result"
    }
   ],
   "source": [
    "start = time.time()\n",
    "testclass[\"predicted_manhattan\"] = knn_gscv_manhattan.predict(gest_test_concat)\n",
    "confusion_matrix_manhattan = metrics.confusion_matrix(testclass[\"class\"],testclass[\"predicted_manhattan\"])\n",
    "end = time.time()\n",
    "end-start"
   ]
  },
  {
   "cell_type": "code",
   "execution_count": 134,
   "id": "02144397",
   "metadata": {},
   "outputs": [
    {
     "data": {
      "text/plain": [
       "0.28922557830810547"
      ]
     },
     "execution_count": 134,
     "metadata": {},
     "output_type": "execute_result"
    }
   ],
   "source": [
    "start = time.time()\n",
    "testclass[\"predicted_euclidean\"] = knn_gscv_euclidean.predict(gest_test_concat)\n",
    "confusion_matrix_euclidean = metrics.confusion_matrix(testclass[\"class\"],testclass[\"predicted_euclidean\"])\n",
    "end = time.time()\n",
    "end-start"
   ]
  },
  {
   "cell_type": "markdown",
   "id": "dede1e8e",
   "metadata": {},
   "source": [
    "#### b)\n",
    "Runtime is much higher for manhattan distance than euclidean distance. Accuracy of manhattan distance is higher than euclidean distance since dimensionality is very high."
   ]
  },
  {
   "cell_type": "code",
   "execution_count": 19,
   "id": "eb209114",
   "metadata": {},
   "outputs": [
    {
     "name": "stdout",
     "output_type": "stream",
     "text": [
      "0.954215522054718\n"
     ]
    },
    {
     "data": {
      "text/html": [
       "<div>\n",
       "<style scoped>\n",
       "    .dataframe tbody tr th:only-of-type {\n",
       "        vertical-align: middle;\n",
       "    }\n",
       "\n",
       "    .dataframe tbody tr th {\n",
       "        vertical-align: top;\n",
       "    }\n",
       "\n",
       "    .dataframe thead th {\n",
       "        text-align: right;\n",
       "    }\n",
       "</style>\n",
       "<table border=\"1\" class=\"dataframe\">\n",
       "  <thead>\n",
       "    <tr style=\"text-align: right;\">\n",
       "      <th></th>\n",
       "      <th>1</th>\n",
       "      <th>2</th>\n",
       "      <th>3</th>\n",
       "      <th>4</th>\n",
       "      <th>5</th>\n",
       "      <th>6</th>\n",
       "      <th>7</th>\n",
       "      <th>8</th>\n",
       "    </tr>\n",
       "  </thead>\n",
       "  <tbody>\n",
       "    <tr>\n",
       "      <th>1</th>\n",
       "      <td>430</td>\n",
       "      <td>0</td>\n",
       "      <td>0</td>\n",
       "      <td>2</td>\n",
       "      <td>0</td>\n",
       "      <td>5</td>\n",
       "      <td>0</td>\n",
       "      <td>0</td>\n",
       "    </tr>\n",
       "    <tr>\n",
       "      <th>2</th>\n",
       "      <td>1</td>\n",
       "      <td>451</td>\n",
       "      <td>0</td>\n",
       "      <td>0</td>\n",
       "      <td>0</td>\n",
       "      <td>0</td>\n",
       "      <td>0</td>\n",
       "      <td>0</td>\n",
       "    </tr>\n",
       "    <tr>\n",
       "      <th>3</th>\n",
       "      <td>2</td>\n",
       "      <td>0</td>\n",
       "      <td>418</td>\n",
       "      <td>0</td>\n",
       "      <td>16</td>\n",
       "      <td>14</td>\n",
       "      <td>4</td>\n",
       "      <td>0</td>\n",
       "    </tr>\n",
       "    <tr>\n",
       "      <th>4</th>\n",
       "      <td>3</td>\n",
       "      <td>0</td>\n",
       "      <td>0</td>\n",
       "      <td>392</td>\n",
       "      <td>40</td>\n",
       "      <td>11</td>\n",
       "      <td>0</td>\n",
       "      <td>4</td>\n",
       "    </tr>\n",
       "    <tr>\n",
       "      <th>5</th>\n",
       "      <td>3</td>\n",
       "      <td>0</td>\n",
       "      <td>9</td>\n",
       "      <td>5</td>\n",
       "      <td>415</td>\n",
       "      <td>1</td>\n",
       "      <td>0</td>\n",
       "      <td>0</td>\n",
       "    </tr>\n",
       "    <tr>\n",
       "      <th>6</th>\n",
       "      <td>3</td>\n",
       "      <td>0</td>\n",
       "      <td>5</td>\n",
       "      <td>13</td>\n",
       "      <td>16</td>\n",
       "      <td>411</td>\n",
       "      <td>0</td>\n",
       "      <td>1</td>\n",
       "    </tr>\n",
       "    <tr>\n",
       "      <th>7</th>\n",
       "      <td>0</td>\n",
       "      <td>0</td>\n",
       "      <td>2</td>\n",
       "      <td>0</td>\n",
       "      <td>0</td>\n",
       "      <td>0</td>\n",
       "      <td>445</td>\n",
       "      <td>0</td>\n",
       "    </tr>\n",
       "    <tr>\n",
       "      <th>8</th>\n",
       "      <td>0</td>\n",
       "      <td>0</td>\n",
       "      <td>0</td>\n",
       "      <td>3</td>\n",
       "      <td>1</td>\n",
       "      <td>0</td>\n",
       "      <td>0</td>\n",
       "      <td>456</td>\n",
       "    </tr>\n",
       "  </tbody>\n",
       "</table>\n",
       "</div>"
      ],
      "text/plain": [
       "     1    2    3    4    5    6    7    8\n",
       "1  430    0    0    2    0    5    0    0\n",
       "2    1  451    0    0    0    0    0    0\n",
       "3    2    0  418    0   16   14    4    0\n",
       "4    3    0    0  392   40   11    0    4\n",
       "5    3    0    9    5  415    1    0    0\n",
       "6    3    0    5   13   16  411    0    1\n",
       "7    0    0    2    0    0    0  445    0\n",
       "8    0    0    0    3    1    0    0  456"
      ]
     },
     "execution_count": 19,
     "metadata": {},
     "output_type": "execute_result"
    }
   ],
   "source": [
    "confusion_matrix_manhattan = pd.DataFrame(confusion_matrix_manhattan,index = np.arange(1,9),columns = np.arange(1,9))\n",
    "confusion_matrix_manhattan\n",
    "accuracy_manhattan = metrics.accuracy_score(testclass[\"class\"],testclass[\"predicted_manhattan\"])\n",
    "print(accuracy_manhattan)\n",
    "confusion_matrix_manhattan"
   ]
  },
  {
   "cell_type": "code",
   "execution_count": 20,
   "id": "3ac3c75d",
   "metadata": {},
   "outputs": [
    {
     "name": "stdout",
     "output_type": "stream",
     "text": [
      "0.9438860971524288\n"
     ]
    },
    {
     "data": {
      "text/html": [
       "<div>\n",
       "<style scoped>\n",
       "    .dataframe tbody tr th:only-of-type {\n",
       "        vertical-align: middle;\n",
       "    }\n",
       "\n",
       "    .dataframe tbody tr th {\n",
       "        vertical-align: top;\n",
       "    }\n",
       "\n",
       "    .dataframe thead th {\n",
       "        text-align: right;\n",
       "    }\n",
       "</style>\n",
       "<table border=\"1\" class=\"dataframe\">\n",
       "  <thead>\n",
       "    <tr style=\"text-align: right;\">\n",
       "      <th></th>\n",
       "      <th>1</th>\n",
       "      <th>2</th>\n",
       "      <th>3</th>\n",
       "      <th>4</th>\n",
       "      <th>5</th>\n",
       "      <th>6</th>\n",
       "      <th>7</th>\n",
       "      <th>8</th>\n",
       "    </tr>\n",
       "  </thead>\n",
       "  <tbody>\n",
       "    <tr>\n",
       "      <th>1</th>\n",
       "      <td>431</td>\n",
       "      <td>0</td>\n",
       "      <td>0</td>\n",
       "      <td>2</td>\n",
       "      <td>0</td>\n",
       "      <td>4</td>\n",
       "      <td>0</td>\n",
       "      <td>0</td>\n",
       "    </tr>\n",
       "    <tr>\n",
       "      <th>2</th>\n",
       "      <td>1</td>\n",
       "      <td>449</td>\n",
       "      <td>0</td>\n",
       "      <td>0</td>\n",
       "      <td>0</td>\n",
       "      <td>0</td>\n",
       "      <td>2</td>\n",
       "      <td>0</td>\n",
       "    </tr>\n",
       "    <tr>\n",
       "      <th>3</th>\n",
       "      <td>2</td>\n",
       "      <td>0</td>\n",
       "      <td>413</td>\n",
       "      <td>0</td>\n",
       "      <td>15</td>\n",
       "      <td>20</td>\n",
       "      <td>4</td>\n",
       "      <td>0</td>\n",
       "    </tr>\n",
       "    <tr>\n",
       "      <th>4</th>\n",
       "      <td>7</td>\n",
       "      <td>0</td>\n",
       "      <td>0</td>\n",
       "      <td>370</td>\n",
       "      <td>60</td>\n",
       "      <td>6</td>\n",
       "      <td>0</td>\n",
       "      <td>7</td>\n",
       "    </tr>\n",
       "    <tr>\n",
       "      <th>5</th>\n",
       "      <td>3</td>\n",
       "      <td>0</td>\n",
       "      <td>6</td>\n",
       "      <td>1</td>\n",
       "      <td>422</td>\n",
       "      <td>1</td>\n",
       "      <td>0</td>\n",
       "      <td>0</td>\n",
       "    </tr>\n",
       "    <tr>\n",
       "      <th>6</th>\n",
       "      <td>6</td>\n",
       "      <td>0</td>\n",
       "      <td>7</td>\n",
       "      <td>15</td>\n",
       "      <td>28</td>\n",
       "      <td>392</td>\n",
       "      <td>1</td>\n",
       "      <td>0</td>\n",
       "    </tr>\n",
       "    <tr>\n",
       "      <th>7</th>\n",
       "      <td>0</td>\n",
       "      <td>0</td>\n",
       "      <td>1</td>\n",
       "      <td>0</td>\n",
       "      <td>0</td>\n",
       "      <td>0</td>\n",
       "      <td>446</td>\n",
       "      <td>0</td>\n",
       "    </tr>\n",
       "    <tr>\n",
       "      <th>8</th>\n",
       "      <td>0</td>\n",
       "      <td>0</td>\n",
       "      <td>0</td>\n",
       "      <td>1</td>\n",
       "      <td>1</td>\n",
       "      <td>0</td>\n",
       "      <td>0</td>\n",
       "      <td>458</td>\n",
       "    </tr>\n",
       "  </tbody>\n",
       "</table>\n",
       "</div>"
      ],
      "text/plain": [
       "     1    2    3    4    5    6    7    8\n",
       "1  431    0    0    2    0    4    0    0\n",
       "2    1  449    0    0    0    0    2    0\n",
       "3    2    0  413    0   15   20    4    0\n",
       "4    7    0    0  370   60    6    0    7\n",
       "5    3    0    6    1  422    1    0    0\n",
       "6    6    0    7   15   28  392    1    0\n",
       "7    0    0    1    0    0    0  446    0\n",
       "8    0    0    0    1    1    0    0  458"
      ]
     },
     "execution_count": 20,
     "metadata": {},
     "output_type": "execute_result"
    }
   ],
   "source": [
    "confusion_matrix_euclidean = pd.DataFrame(confusion_matrix_euclidean,index = np.arange(1,9),columns = np.arange(1,9))\n",
    "accuracy_euclidean = metrics.accuracy_score(testclass[\"class\"],testclass[\"predicted_euclidean\"])\n",
    "print(accuracy_euclidean)\n",
    "confusion_matrix_euclidean"
   ]
  },
  {
   "cell_type": "markdown",
   "id": "6ee5b5f5",
   "metadata": {},
   "source": [
    "#### c)\n",
    "I think it can be reasonable since two different axes are dominant in each instances such as: x,y y,z x,z. In other words, none of axes is dominant in determining the class of all instances."
   ]
  },
  {
   "cell_type": "markdown",
   "id": "ad4756e0",
   "metadata": {},
   "source": [
    "### Task 2 – Linear models on alternative representations of the data\n",
    "#### a)\n",
    "Logistic regression without any penalty will be used to predict if test instance x belongs to class 3 or not."
   ]
  },
  {
   "cell_type": "code",
   "execution_count": 40,
   "id": "49973e9e",
   "metadata": {},
   "outputs": [],
   "source": [
    "trainclass_regression = (trainclass == 3)*1\n",
    "class3_ratio = trainclass_regression.sum()/len(trainclass)"
   ]
  },
  {
   "cell_type": "code",
   "execution_count": 75,
   "id": "f036bdc9",
   "metadata": {},
   "outputs": [
    {
     "data": {
      "text/plain": [
       "LogisticRegression(max_iter=10000, penalty='none', random_state=500)"
      ]
     },
     "execution_count": 75,
     "metadata": {},
     "output_type": "execute_result"
    }
   ],
   "source": [
    "lr_first = LogisticRegression(max_iter = 10000,penalty = \"none\")\n",
    "lr_first.fit(gest_train_concat,trainclass_regression)"
   ]
  },
  {
   "cell_type": "code",
   "execution_count": 76,
   "id": "a1ff94e1",
   "metadata": {},
   "outputs": [],
   "source": [
    "lr_first_prediction = lr_first.predict_proba(gest_test_concat)\n",
    "lr_first_prediction = pd.DataFrame(lr_first_prediction)\n",
    "lr_first_prediction[\"prediction\"] = lr_first_prediction[1].apply(lambda x:1 if x > class3_ratio \n",
    "                                                              else(0))\n",
    "testclass[\"prediction_lr\"] = lr_first_prediction[\"prediction\"]"
   ]
  },
  {
   "cell_type": "code",
   "execution_count": 80,
   "id": "53eea1c2",
   "metadata": {},
   "outputs": [
    {
     "name": "stdout",
     "output_type": "stream",
     "text": [
      "      0    1\n",
      "0  2953  175\n",
      "1   165  289\n"
     ]
    },
    {
     "data": {
      "text/plain": [
       "0.9050809603573423"
      ]
     },
     "execution_count": 80,
     "metadata": {},
     "output_type": "execute_result"
    }
   ],
   "source": [
    "confusion_matrix_lr = metrics.confusion_matrix((testclass[\"class\"] == 3)*1,testclass[\"prediction_lr\"])\n",
    "confusion_matrix_lr = pd.DataFrame(confusion_matrix_lr)\n",
    "accuracy_lr = metrics.accuracy_score((testclass[\"class\"] == 3)*1,testclass[\"prediction_lr\"])\n",
    "print(confusion_matrix_lr)\n",
    "accuracy_lr"
   ]
  },
  {
   "cell_type": "markdown",
   "id": "02aabeb2",
   "metadata": {},
   "source": [
    "#### b)\n",
    "Logistic regression with lasso penaly will be used to predict if test instance x belongs to class 3 or not. Best lambda value will be determined by using 10 fold cross validation"
   ]
  },
  {
   "cell_type": "code",
   "execution_count": 101,
   "id": "03ca626f",
   "metadata": {},
   "outputs": [
    {
     "data": {
      "text/plain": [
       "LogisticRegressionCV(Cs=array([0.5, 1. , 1.5, 2. , 2.5, 3. , 3.5, 4. , 4.5, 5. , 5.5, 6. , 6.5,\n",
       "       7. , 7.5, 8. , 8.5, 9. , 9.5]),\n",
       "                     cv=10, max_iter=10000, penalty='l1', random_state=500,\n",
       "                     scoring='neg_log_loss', solver='liblinear')"
      ]
     },
     "execution_count": 101,
     "metadata": {},
     "output_type": "execute_result"
    }
   ],
   "source": [
    "lr_second = LogisticRegressionCV(random_state = 500,cv= 10, max_iter = 10000,penalty = \"l1\",solver = \"liblinear\",Cs=np.arange(0.5,10,0.5),\n",
    "                                scoring = \"neg_log_loss\")\n",
    "lr_second.fit(gest_train_concat,trainclass_regression)"
   ]
  },
  {
   "cell_type": "code",
   "execution_count": 107,
   "id": "f20e0923",
   "metadata": {},
   "outputs": [
    {
     "data": {
      "text/plain": [
       "array([0.5])"
      ]
     },
     "execution_count": 107,
     "metadata": {},
     "output_type": "execute_result"
    }
   ],
   "source": [
    "lr_second.C_"
   ]
  },
  {
   "cell_type": "code",
   "execution_count": 108,
   "id": "633389ed",
   "metadata": {},
   "outputs": [
    {
     "data": {
      "text/plain": [
       "LogisticRegressionCV(Cs=array([0.1 , 0.15, 0.2 , 0.25, 0.3 , 0.35, 0.4 , 0.45, 0.5 , 0.55, 0.6 ,\n",
       "       0.65, 0.7 , 0.75, 0.8 , 0.85, 0.9 , 0.95, 1.  , 1.05, 1.1 , 1.15,\n",
       "       1.2 , 1.25, 1.3 , 1.35, 1.4 , 1.45, 1.5 , 1.55, 1.6 , 1.65, 1.7 ,\n",
       "       1.75, 1.8 , 1.85, 1.9 , 1.95]),\n",
       "                     cv=10, max_iter=10000, penalty='l1', random_state=500,\n",
       "                     scoring='neg_log_loss', solver='liblinear')"
      ]
     },
     "execution_count": 108,
     "metadata": {},
     "output_type": "execute_result"
    }
   ],
   "source": [
    "lr_second = LogisticRegressionCV(random_state = 500,cv= 10, max_iter = 10000,penalty = \"l1\",solver = \"liblinear\",Cs=np.arange(0.1,2,0.05),\n",
    "                                scoring = \"neg_log_loss\")\n",
    "lr_second.fit(gest_train_concat,trainclass_regression)"
   ]
  },
  {
   "cell_type": "code",
   "execution_count": 109,
   "id": "a689cda4",
   "metadata": {},
   "outputs": [
    {
     "data": {
      "text/plain": [
       "array([0.45])"
      ]
     },
     "execution_count": 109,
     "metadata": {},
     "output_type": "execute_result"
    }
   ],
   "source": [
    "lr_second.C_"
   ]
  },
  {
   "cell_type": "code",
   "execution_count": 110,
   "id": "bc6bca84",
   "metadata": {},
   "outputs": [],
   "source": [
    "lr_second_prediction = lr_second.predict_proba(gest_test_concat)\n",
    "lr_second_prediction = pd.DataFrame(lr_second_prediction)\n",
    "lr_second_prediction[\"prediction\"] = lr_second_prediction[1].apply(lambda x:1 if x > class3_ratio \n",
    "                                                              else(0))\n",
    "testclass[\"prediction_lr_lasso\"] = lr_second_prediction[\"prediction\"]"
   ]
  },
  {
   "cell_type": "code",
   "execution_count": 111,
   "id": "0230d5c4",
   "metadata": {},
   "outputs": [
    {
     "name": "stdout",
     "output_type": "stream",
     "text": [
      "      0    1\n",
      "0  2869  259\n",
      "1    30  424\n"
     ]
    },
    {
     "data": {
      "text/plain": [
       "0.9193188163037409"
      ]
     },
     "execution_count": 111,
     "metadata": {},
     "output_type": "execute_result"
    }
   ],
   "source": [
    "confusion_matrix_lr_lasso = metrics.confusion_matrix((testclass[\"class\"] == 3)*1,testclass[\"prediction_lr_lasso\"])\n",
    "confusion_matrix_lr_lasso = pd.DataFrame(confusion_matrix_lr_lasso)\n",
    "accuracy_lr_lasso = metrics.accuracy_score((testclass[\"class\"] == 3)*1,testclass[\"prediction_lr_lasso\"])\n",
    "print(confusion_matrix_lr_lasso)\n",
    "accuracy_lr_lasso"
   ]
  },
  {
   "cell_type": "markdown",
   "id": "2f9d3e45",
   "metadata": {},
   "source": [
    "#### c)\n",
    "Logistic regression with lasso penaly will be used on distance matrix of concatenated train data to predict if test instance x belongs to class 3 or not. Best lambda value will be determined by using 10 fold cross validation"
   ]
  },
  {
   "cell_type": "code",
   "execution_count": 124,
   "id": "1f1f206d",
   "metadata": {},
   "outputs": [],
   "source": [
    "gest_train_concat_dist_matrix = distance_matrix(gest_train_concat,gest_train_concat)\n",
    "gest_test_concat_dist_matrix = distance_matrix(gest_test_concat,gest_train_concat)"
   ]
  },
  {
   "cell_type": "code",
   "execution_count": 125,
   "id": "29b8d1da",
   "metadata": {},
   "outputs": [],
   "source": [
    "gest_test_concat_dist_matrix = pd.DataFrame(gest_test_concat_dist_matrix)\n",
    "gest_train_concat_dist_matrix = pd.DataFrame(gest_train_concat_dist_matrix)"
   ]
  },
  {
   "cell_type": "code",
   "execution_count": 121,
   "id": "96e83974",
   "metadata": {},
   "outputs": [
    {
     "data": {
      "text/plain": [
       "LogisticRegressionCV(Cs=array([0.5, 1. , 1.5, 2. , 2.5, 3. , 3.5, 4. , 4.5, 5. , 5.5, 6. , 6.5,\n",
       "       7. , 7.5, 8. , 8.5, 9. , 9.5]),\n",
       "                     cv=10, max_iter=10000, penalty='l1', random_state=500,\n",
       "                     scoring='neg_log_loss', solver='liblinear')"
      ]
     },
     "execution_count": 121,
     "metadata": {},
     "output_type": "execute_result"
    }
   ],
   "source": [
    "lr_last= LogisticRegressionCV(random_state = 500,cv= 10, max_iter = 10000,penalty = \"l1\",solver = \"liblinear\",Cs=np.arange(0.5,10,0.5),\n",
    "                                scoring = \"neg_log_loss\")\n",
    "lr_last.fit(gest_train_concat_dist_matrix,trainclass_regression)"
   ]
  },
  {
   "cell_type": "code",
   "execution_count": 122,
   "id": "ac579465",
   "metadata": {},
   "outputs": [
    {
     "data": {
      "text/plain": [
       "array([3.5])"
      ]
     },
     "execution_count": 122,
     "metadata": {},
     "output_type": "execute_result"
    }
   ],
   "source": [
    "lr_last.C_"
   ]
  },
  {
   "cell_type": "code",
   "execution_count": 126,
   "id": "498daa0f",
   "metadata": {},
   "outputs": [],
   "source": [
    "lr_last_prediction = lr_last.predict_proba(gest_test_concat_dist_matrix)\n",
    "lr_last_prediction = pd.DataFrame(lr_last_prediction)\n",
    "lr_last_prediction[\"prediction\"] = lr_last_prediction[1].apply(lambda x:1 if x > class3_ratio \n",
    "                                                              else(0))\n",
    "testclass[\"prediction_lr_lasso_matrix\"] = lr_last_prediction[\"prediction\"]"
   ]
  },
  {
   "cell_type": "code",
   "execution_count": 127,
   "id": "82173dc9",
   "metadata": {},
   "outputs": [
    {
     "name": "stdout",
     "output_type": "stream",
     "text": [
      "      0    1\n",
      "0  3099   29\n",
      "1    23  431\n"
     ]
    },
    {
     "data": {
      "text/plain": [
       "0.9854829704075935"
      ]
     },
     "execution_count": 127,
     "metadata": {},
     "output_type": "execute_result"
    }
   ],
   "source": [
    "confusion_matrix_lr_lasso_distance = metrics.confusion_matrix((testclass[\"class\"] == 3)*1,testclass[\"prediction_lr_lasso_matrix\"])\n",
    "confusion_matrix_lr_lasso_distance = pd.DataFrame(confusion_matrix_lr_lasso_distance)\n",
    "accuracy_lr_lasso_distance = metrics.accuracy_score((testclass[\"class\"] == 3)*1,testclass[\"prediction_lr_lasso_matrix\"])\n",
    "print(confusion_matrix_lr_lasso_distance)\n",
    "accuracy_lr_lasso_distance"
   ]
  },
  {
   "cell_type": "markdown",
   "id": "39924d9e",
   "metadata": {},
   "source": [
    "Knn classification methods have better performance than logistic regression methods overall. Accuracy values are comparably high which means those models are suitable to predict the class of test instances. On the other hand distance matrix featured logistic regression method with lasso penalty has the best accuracy."
   ]
  },
  {
   "cell_type": "markdown",
   "id": "5e841921",
   "metadata": {},
   "source": [
    "To conclude, Knn classification and logistic regression models are used on UWaveGesture data to predict the class information. Knn classification methods had better performance than logistic regression methods but logistic regression on distance matrix of UWaveGesture matrix had the best performance."
   ]
  }
 ],
 "metadata": {
  "kernelspec": {
   "display_name": "Python 3",
   "language": "python",
   "name": "python3"
  },
  "language_info": {
   "codemirror_mode": {
    "name": "ipython",
    "version": 3
   },
   "file_extension": ".py",
   "mimetype": "text/x-python",
   "name": "python",
   "nbconvert_exporter": "python",
   "pygments_lexer": "ipython3",
   "version": "3.8.8"
  }
 },
 "nbformat": 4,
 "nbformat_minor": 5
}
