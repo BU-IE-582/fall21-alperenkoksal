{
 "cells": [
  {
   "cell_type": "markdown",
   "id": "8c4800ca",
   "metadata": {},
   "source": [
    "### Multiple Instance Learning\n",
    "In this project we aim to find succesful bag representations for the dataset musk1.csv. After finding some good bag representations, we will try some classifiers to have a good model in order to predict whether the atom need to be musked or not."
   ]
  },
  {
   "cell_type": "code",
   "execution_count": 105,
   "id": "f1e166fc",
   "metadata": {},
   "outputs": [],
   "source": [
    "import pandas as pd\n",
    "import numpy as np\n",
    "import matplotlib.pyplot as plt\n",
    "from sklearn.model_selection import RandomizedSearchCV,GridSearchCV\n",
    "from sklearn.ensemble import RandomForestClassifier\n",
    "from sklearn.svm import SVC\n",
    "    "
   ]
  },
  {
   "cell_type": "code",
   "execution_count": 2,
   "id": "6f04e988",
   "metadata": {},
   "outputs": [],
   "source": [
    "df = pd.read_csv(\"C:/Users/a_kok/Desktop/Dersler/IE 582/Musk1.csv\",header = None)"
   ]
  },
  {
   "cell_type": "code",
   "execution_count": 3,
   "id": "b44f3bc3",
   "metadata": {},
   "outputs": [
    {
     "name": "stdout",
     "output_type": "stream",
     "text": [
      "<class 'pandas.core.frame.DataFrame'>\n",
      "RangeIndex: 476 entries, 0 to 475\n",
      "Columns: 168 entries, 0 to 167\n",
      "dtypes: int64(168)\n",
      "memory usage: 624.9 KB\n"
     ]
    }
   ],
   "source": [
    "df.info()"
   ]
  },
  {
   "cell_type": "code",
   "execution_count": 4,
   "id": "8e00f24a",
   "metadata": {},
   "outputs": [],
   "source": [
    "df = df.rename(columns = {0:\"class\",1:\"bag_id\"})"
   ]
  },
  {
   "cell_type": "code",
   "execution_count": 5,
   "id": "acd2aad0",
   "metadata": {},
   "outputs": [
    {
     "data": {
      "text/plain": [
       "array([ 1,  2,  3,  4,  5,  6,  7,  8,  9, 10, 11, 12, 13, 14, 15, 16, 17,\n",
       "       18, 19, 20, 21, 22, 23, 24, 25, 26, 27, 28, 29, 30, 31, 32, 33, 34,\n",
       "       35, 36, 37, 38, 39, 40, 41, 42, 43, 44, 45, 46, 47], dtype=int64)"
      ]
     },
     "execution_count": 5,
     "metadata": {},
     "output_type": "execute_result"
    }
   ],
   "source": [
    "df[df[\"class\"] == 1][\"bag_id\"].unique()"
   ]
  },
  {
   "cell_type": "code",
   "execution_count": 130,
   "id": "1225bd28",
   "metadata": {},
   "outputs": [
    {
     "data": {
      "text/html": [
       "<div>\n",
       "<style scoped>\n",
       "    .dataframe tbody tr th:only-of-type {\n",
       "        vertical-align: middle;\n",
       "    }\n",
       "\n",
       "    .dataframe tbody tr th {\n",
       "        vertical-align: top;\n",
       "    }\n",
       "\n",
       "    .dataframe thead th {\n",
       "        text-align: right;\n",
       "    }\n",
       "</style>\n",
       "<table border=\"1\" class=\"dataframe\">\n",
       "  <thead>\n",
       "    <tr style=\"text-align: right;\">\n",
       "      <th></th>\n",
       "      <th>class</th>\n",
       "      <th>bag_id</th>\n",
       "      <th>2</th>\n",
       "      <th>3</th>\n",
       "      <th>4</th>\n",
       "      <th>5</th>\n",
       "      <th>6</th>\n",
       "      <th>7</th>\n",
       "      <th>8</th>\n",
       "      <th>9</th>\n",
       "      <th>...</th>\n",
       "      <th>158</th>\n",
       "      <th>159</th>\n",
       "      <th>160</th>\n",
       "      <th>161</th>\n",
       "      <th>162</th>\n",
       "      <th>163</th>\n",
       "      <th>164</th>\n",
       "      <th>165</th>\n",
       "      <th>166</th>\n",
       "      <th>167</th>\n",
       "    </tr>\n",
       "  </thead>\n",
       "  <tbody>\n",
       "    <tr>\n",
       "      <th>0</th>\n",
       "      <td>1</td>\n",
       "      <td>1</td>\n",
       "      <td>42</td>\n",
       "      <td>-198</td>\n",
       "      <td>-109</td>\n",
       "      <td>-75</td>\n",
       "      <td>-117</td>\n",
       "      <td>11</td>\n",
       "      <td>23</td>\n",
       "      <td>-88</td>\n",
       "      <td>...</td>\n",
       "      <td>-238</td>\n",
       "      <td>-74</td>\n",
       "      <td>-129</td>\n",
       "      <td>-120</td>\n",
       "      <td>-38</td>\n",
       "      <td>30</td>\n",
       "      <td>48</td>\n",
       "      <td>-37</td>\n",
       "      <td>6</td>\n",
       "      <td>30</td>\n",
       "    </tr>\n",
       "    <tr>\n",
       "      <th>1</th>\n",
       "      <td>1</td>\n",
       "      <td>1</td>\n",
       "      <td>42</td>\n",
       "      <td>-191</td>\n",
       "      <td>-142</td>\n",
       "      <td>-65</td>\n",
       "      <td>-117</td>\n",
       "      <td>55</td>\n",
       "      <td>49</td>\n",
       "      <td>-170</td>\n",
       "      <td>...</td>\n",
       "      <td>-238</td>\n",
       "      <td>-302</td>\n",
       "      <td>60</td>\n",
       "      <td>-120</td>\n",
       "      <td>-39</td>\n",
       "      <td>31</td>\n",
       "      <td>48</td>\n",
       "      <td>-37</td>\n",
       "      <td>5</td>\n",
       "      <td>30</td>\n",
       "    </tr>\n",
       "    <tr>\n",
       "      <th>2</th>\n",
       "      <td>1</td>\n",
       "      <td>1</td>\n",
       "      <td>42</td>\n",
       "      <td>-191</td>\n",
       "      <td>-142</td>\n",
       "      <td>-75</td>\n",
       "      <td>-117</td>\n",
       "      <td>11</td>\n",
       "      <td>49</td>\n",
       "      <td>-161</td>\n",
       "      <td>...</td>\n",
       "      <td>-238</td>\n",
       "      <td>-73</td>\n",
       "      <td>-127</td>\n",
       "      <td>-120</td>\n",
       "      <td>-38</td>\n",
       "      <td>30</td>\n",
       "      <td>48</td>\n",
       "      <td>-37</td>\n",
       "      <td>5</td>\n",
       "      <td>31</td>\n",
       "    </tr>\n",
       "    <tr>\n",
       "      <th>3</th>\n",
       "      <td>1</td>\n",
       "      <td>1</td>\n",
       "      <td>42</td>\n",
       "      <td>-198</td>\n",
       "      <td>-110</td>\n",
       "      <td>-65</td>\n",
       "      <td>-117</td>\n",
       "      <td>55</td>\n",
       "      <td>23</td>\n",
       "      <td>-95</td>\n",
       "      <td>...</td>\n",
       "      <td>-238</td>\n",
       "      <td>-302</td>\n",
       "      <td>60</td>\n",
       "      <td>-120</td>\n",
       "      <td>-39</td>\n",
       "      <td>30</td>\n",
       "      <td>48</td>\n",
       "      <td>-37</td>\n",
       "      <td>6</td>\n",
       "      <td>30</td>\n",
       "    </tr>\n",
       "    <tr>\n",
       "      <th>4</th>\n",
       "      <td>1</td>\n",
       "      <td>2</td>\n",
       "      <td>42</td>\n",
       "      <td>-198</td>\n",
       "      <td>-102</td>\n",
       "      <td>-75</td>\n",
       "      <td>-117</td>\n",
       "      <td>10</td>\n",
       "      <td>24</td>\n",
       "      <td>-87</td>\n",
       "      <td>...</td>\n",
       "      <td>-238</td>\n",
       "      <td>-73</td>\n",
       "      <td>-127</td>\n",
       "      <td>51</td>\n",
       "      <td>128</td>\n",
       "      <td>144</td>\n",
       "      <td>43</td>\n",
       "      <td>-30</td>\n",
       "      <td>14</td>\n",
       "      <td>26</td>\n",
       "    </tr>\n",
       "  </tbody>\n",
       "</table>\n",
       "<p>5 rows × 168 columns</p>\n",
       "</div>"
      ],
      "text/plain": [
       "   class  bag_id   2    3    4   5    6   7   8    9  ...  158  159  160  161  \\\n",
       "0      1       1  42 -198 -109 -75 -117  11  23  -88  ... -238  -74 -129 -120   \n",
       "1      1       1  42 -191 -142 -65 -117  55  49 -170  ... -238 -302   60 -120   \n",
       "2      1       1  42 -191 -142 -75 -117  11  49 -161  ... -238  -73 -127 -120   \n",
       "3      1       1  42 -198 -110 -65 -117  55  23  -95  ... -238 -302   60 -120   \n",
       "4      1       2  42 -198 -102 -75 -117  10  24  -87  ... -238  -73 -127   51   \n",
       "\n",
       "   162  163  164  165  166  167  \n",
       "0  -38   30   48  -37    6   30  \n",
       "1  -39   31   48  -37    5   30  \n",
       "2  -38   30   48  -37    5   31  \n",
       "3  -39   30   48  -37    6   30  \n",
       "4  128  144   43  -30   14   26  \n",
       "\n",
       "[5 rows x 168 columns]"
      ]
     },
     "execution_count": 130,
     "metadata": {},
     "output_type": "execute_result"
    }
   ],
   "source": [
    "df.head()"
   ]
  },
  {
   "cell_type": "code",
   "execution_count": 7,
   "id": "0d03300b",
   "metadata": {},
   "outputs": [
    {
     "data": {
      "text/html": [
       "<div>\n",
       "<style scoped>\n",
       "    .dataframe tbody tr th:only-of-type {\n",
       "        vertical-align: middle;\n",
       "    }\n",
       "\n",
       "    .dataframe tbody tr th {\n",
       "        vertical-align: top;\n",
       "    }\n",
       "\n",
       "    .dataframe thead th {\n",
       "        text-align: right;\n",
       "    }\n",
       "</style>\n",
       "<table border=\"1\" class=\"dataframe\">\n",
       "  <thead>\n",
       "    <tr style=\"text-align: right;\">\n",
       "      <th></th>\n",
       "      <th>class</th>\n",
       "      <th>bag_id</th>\n",
       "      <th>2</th>\n",
       "      <th>3</th>\n",
       "      <th>4</th>\n",
       "      <th>5</th>\n",
       "      <th>6</th>\n",
       "      <th>7</th>\n",
       "      <th>8</th>\n",
       "      <th>9</th>\n",
       "      <th>...</th>\n",
       "      <th>158</th>\n",
       "      <th>159</th>\n",
       "      <th>160</th>\n",
       "      <th>161</th>\n",
       "      <th>162</th>\n",
       "      <th>163</th>\n",
       "      <th>164</th>\n",
       "      <th>165</th>\n",
       "      <th>166</th>\n",
       "      <th>167</th>\n",
       "    </tr>\n",
       "  </thead>\n",
       "  <tbody>\n",
       "    <tr>\n",
       "      <th>count</th>\n",
       "      <td>207.0</td>\n",
       "      <td>207.000000</td>\n",
       "      <td>207.000000</td>\n",
       "      <td>207.000000</td>\n",
       "      <td>207.000000</td>\n",
       "      <td>207.000000</td>\n",
       "      <td>207.000000</td>\n",
       "      <td>207.000000</td>\n",
       "      <td>207.000000</td>\n",
       "      <td>207.000000</td>\n",
       "      <td>...</td>\n",
       "      <td>207.000000</td>\n",
       "      <td>207.000000</td>\n",
       "      <td>207.000000</td>\n",
       "      <td>207.000000</td>\n",
       "      <td>207.000000</td>\n",
       "      <td>207.000000</td>\n",
       "      <td>207.000000</td>\n",
       "      <td>207.000000</td>\n",
       "      <td>207.000000</td>\n",
       "      <td>207.000000</td>\n",
       "    </tr>\n",
       "    <tr>\n",
       "      <th>mean</th>\n",
       "      <td>1.0</td>\n",
       "      <td>25.531401</td>\n",
       "      <td>39.251208</td>\n",
       "      <td>-135.405797</td>\n",
       "      <td>-88.579710</td>\n",
       "      <td>7.265700</td>\n",
       "      <td>-112.574879</td>\n",
       "      <td>-25.657005</td>\n",
       "      <td>-0.318841</td>\n",
       "      <td>5.260870</td>\n",
       "      <td>...</td>\n",
       "      <td>-235.855072</td>\n",
       "      <td>-204.024155</td>\n",
       "      <td>-114.922705</td>\n",
       "      <td>-34.536232</td>\n",
       "      <td>22.028986</td>\n",
       "      <td>63.913043</td>\n",
       "      <td>69.425121</td>\n",
       "      <td>-34.314010</td>\n",
       "      <td>-9.483092</td>\n",
       "      <td>29.801932</td>\n",
       "    </tr>\n",
       "    <tr>\n",
       "      <th>std</th>\n",
       "      <td>0.0</td>\n",
       "      <td>13.413431</td>\n",
       "      <td>16.871435</td>\n",
       "      <td>80.572223</td>\n",
       "      <td>59.945543</td>\n",
       "      <td>62.963095</td>\n",
       "      <td>26.110351</td>\n",
       "      <td>81.082322</td>\n",
       "      <td>95.332351</td>\n",
       "      <td>65.144794</td>\n",
       "      <td>...</td>\n",
       "      <td>9.318958</td>\n",
       "      <td>81.390074</td>\n",
       "      <td>116.255259</td>\n",
       "      <td>65.893835</td>\n",
       "      <td>82.390729</td>\n",
       "      <td>52.672022</td>\n",
       "      <td>30.830463</td>\n",
       "      <td>11.306968</td>\n",
       "      <td>40.265845</td>\n",
       "      <td>43.353642</td>\n",
       "    </tr>\n",
       "    <tr>\n",
       "      <th>min</th>\n",
       "      <td>1.0</td>\n",
       "      <td>1.000000</td>\n",
       "      <td>-7.000000</td>\n",
       "      <td>-199.000000</td>\n",
       "      <td>-163.000000</td>\n",
       "      <td>-113.000000</td>\n",
       "      <td>-117.000000</td>\n",
       "      <td>-176.000000</td>\n",
       "      <td>-170.000000</td>\n",
       "      <td>-200.000000</td>\n",
       "      <td>...</td>\n",
       "      <td>-252.000000</td>\n",
       "      <td>-307.000000</td>\n",
       "      <td>-217.000000</td>\n",
       "      <td>-135.000000</td>\n",
       "      <td>-126.000000</td>\n",
       "      <td>-78.000000</td>\n",
       "      <td>39.000000</td>\n",
       "      <td>-52.000000</td>\n",
       "      <td>-156.000000</td>\n",
       "      <td>-72.000000</td>\n",
       "    </tr>\n",
       "    <tr>\n",
       "      <th>25%</th>\n",
       "      <td>1.0</td>\n",
       "      <td>14.000000</td>\n",
       "      <td>28.500000</td>\n",
       "      <td>-194.000000</td>\n",
       "      <td>-145.000000</td>\n",
       "      <td>-54.000000</td>\n",
       "      <td>-117.000000</td>\n",
       "      <td>-93.500000</td>\n",
       "      <td>-51.500000</td>\n",
       "      <td>-10.000000</td>\n",
       "      <td>...</td>\n",
       "      <td>-240.000000</td>\n",
       "      <td>-262.000000</td>\n",
       "      <td>-209.000000</td>\n",
       "      <td>-117.000000</td>\n",
       "      <td>-43.500000</td>\n",
       "      <td>27.000000</td>\n",
       "      <td>47.000000</td>\n",
       "      <td>-43.000000</td>\n",
       "      <td>-22.000000</td>\n",
       "      <td>-6.000000</td>\n",
       "    </tr>\n",
       "    <tr>\n",
       "      <th>50%</th>\n",
       "      <td>1.0</td>\n",
       "      <td>26.000000</td>\n",
       "      <td>42.000000</td>\n",
       "      <td>-171.000000</td>\n",
       "      <td>-110.000000</td>\n",
       "      <td>28.000000</td>\n",
       "      <td>-117.000000</td>\n",
       "      <td>-25.000000</td>\n",
       "      <td>43.000000</td>\n",
       "      <td>7.000000</td>\n",
       "      <td>...</td>\n",
       "      <td>-237.000000</td>\n",
       "      <td>-237.000000</td>\n",
       "      <td>-203.000000</td>\n",
       "      <td>-17.000000</td>\n",
       "      <td>3.000000</td>\n",
       "      <td>65.000000</td>\n",
       "      <td>64.000000</td>\n",
       "      <td>-36.000000</td>\n",
       "      <td>-2.000000</td>\n",
       "      <td>33.000000</td>\n",
       "    </tr>\n",
       "    <tr>\n",
       "      <th>75%</th>\n",
       "      <td>1.0</td>\n",
       "      <td>37.000000</td>\n",
       "      <td>51.000000</td>\n",
       "      <td>-110.000000</td>\n",
       "      <td>-24.000000</td>\n",
       "      <td>32.000000</td>\n",
       "      <td>-117.000000</td>\n",
       "      <td>54.000000</td>\n",
       "      <td>59.500000</td>\n",
       "      <td>48.500000</td>\n",
       "      <td>...</td>\n",
       "      <td>-233.500000</td>\n",
       "      <td>-165.000000</td>\n",
       "      <td>26.000000</td>\n",
       "      <td>21.000000</td>\n",
       "      <td>86.000000</td>\n",
       "      <td>116.500000</td>\n",
       "      <td>78.000000</td>\n",
       "      <td>-29.000000</td>\n",
       "      <td>12.000000</td>\n",
       "      <td>66.000000</td>\n",
       "    </tr>\n",
       "    <tr>\n",
       "      <th>max</th>\n",
       "      <td>1.0</td>\n",
       "      <td>47.000000</td>\n",
       "      <td>85.000000</td>\n",
       "      <td>98.000000</td>\n",
       "      <td>42.000000</td>\n",
       "      <td>157.000000</td>\n",
       "      <td>214.000000</td>\n",
       "      <td>137.000000</td>\n",
       "      <td>211.000000</td>\n",
       "      <td>142.000000</td>\n",
       "      <td>...</td>\n",
       "      <td>-142.000000</td>\n",
       "      <td>66.000000</td>\n",
       "      <td>77.000000</td>\n",
       "      <td>60.000000</td>\n",
       "      <td>211.000000</td>\n",
       "      <td>197.000000</td>\n",
       "      <td>173.000000</td>\n",
       "      <td>24.000000</td>\n",
       "      <td>82.000000</td>\n",
       "      <td>118.000000</td>\n",
       "    </tr>\n",
       "  </tbody>\n",
       "</table>\n",
       "<p>8 rows × 168 columns</p>\n",
       "</div>"
      ],
      "text/plain": [
       "       class      bag_id           2           3           4           5  \\\n",
       "count  207.0  207.000000  207.000000  207.000000  207.000000  207.000000   \n",
       "mean     1.0   25.531401   39.251208 -135.405797  -88.579710    7.265700   \n",
       "std      0.0   13.413431   16.871435   80.572223   59.945543   62.963095   \n",
       "min      1.0    1.000000   -7.000000 -199.000000 -163.000000 -113.000000   \n",
       "25%      1.0   14.000000   28.500000 -194.000000 -145.000000  -54.000000   \n",
       "50%      1.0   26.000000   42.000000 -171.000000 -110.000000   28.000000   \n",
       "75%      1.0   37.000000   51.000000 -110.000000  -24.000000   32.000000   \n",
       "max      1.0   47.000000   85.000000   98.000000   42.000000  157.000000   \n",
       "\n",
       "                6           7           8           9  ...         158  \\\n",
       "count  207.000000  207.000000  207.000000  207.000000  ...  207.000000   \n",
       "mean  -112.574879  -25.657005   -0.318841    5.260870  ... -235.855072   \n",
       "std     26.110351   81.082322   95.332351   65.144794  ...    9.318958   \n",
       "min   -117.000000 -176.000000 -170.000000 -200.000000  ... -252.000000   \n",
       "25%   -117.000000  -93.500000  -51.500000  -10.000000  ... -240.000000   \n",
       "50%   -117.000000  -25.000000   43.000000    7.000000  ... -237.000000   \n",
       "75%   -117.000000   54.000000   59.500000   48.500000  ... -233.500000   \n",
       "max    214.000000  137.000000  211.000000  142.000000  ... -142.000000   \n",
       "\n",
       "              159         160         161         162         163         164  \\\n",
       "count  207.000000  207.000000  207.000000  207.000000  207.000000  207.000000   \n",
       "mean  -204.024155 -114.922705  -34.536232   22.028986   63.913043   69.425121   \n",
       "std     81.390074  116.255259   65.893835   82.390729   52.672022   30.830463   \n",
       "min   -307.000000 -217.000000 -135.000000 -126.000000  -78.000000   39.000000   \n",
       "25%   -262.000000 -209.000000 -117.000000  -43.500000   27.000000   47.000000   \n",
       "50%   -237.000000 -203.000000  -17.000000    3.000000   65.000000   64.000000   \n",
       "75%   -165.000000   26.000000   21.000000   86.000000  116.500000   78.000000   \n",
       "max     66.000000   77.000000   60.000000  211.000000  197.000000  173.000000   \n",
       "\n",
       "              165         166         167  \n",
       "count  207.000000  207.000000  207.000000  \n",
       "mean   -34.314010   -9.483092   29.801932  \n",
       "std     11.306968   40.265845   43.353642  \n",
       "min    -52.000000 -156.000000  -72.000000  \n",
       "25%    -43.000000  -22.000000   -6.000000  \n",
       "50%    -36.000000   -2.000000   33.000000  \n",
       "75%    -29.000000   12.000000   66.000000  \n",
       "max     24.000000   82.000000  118.000000  \n",
       "\n",
       "[8 rows x 168 columns]"
      ]
     },
     "execution_count": 7,
     "metadata": {},
     "output_type": "execute_result"
    }
   ],
   "source": [
    "df[df[\"class\"] == 1].describe()"
   ]
  },
  {
   "cell_type": "code",
   "execution_count": 8,
   "id": "2c5786d3",
   "metadata": {},
   "outputs": [
    {
     "data": {
      "text/html": [
       "<div>\n",
       "<style scoped>\n",
       "    .dataframe tbody tr th:only-of-type {\n",
       "        vertical-align: middle;\n",
       "    }\n",
       "\n",
       "    .dataframe tbody tr th {\n",
       "        vertical-align: top;\n",
       "    }\n",
       "\n",
       "    .dataframe thead th {\n",
       "        text-align: right;\n",
       "    }\n",
       "</style>\n",
       "<table border=\"1\" class=\"dataframe\">\n",
       "  <thead>\n",
       "    <tr style=\"text-align: right;\">\n",
       "      <th></th>\n",
       "      <th>class</th>\n",
       "      <th>bag_id</th>\n",
       "      <th>2</th>\n",
       "      <th>3</th>\n",
       "      <th>4</th>\n",
       "      <th>5</th>\n",
       "      <th>6</th>\n",
       "      <th>7</th>\n",
       "      <th>8</th>\n",
       "      <th>9</th>\n",
       "      <th>...</th>\n",
       "      <th>158</th>\n",
       "      <th>159</th>\n",
       "      <th>160</th>\n",
       "      <th>161</th>\n",
       "      <th>162</th>\n",
       "      <th>163</th>\n",
       "      <th>164</th>\n",
       "      <th>165</th>\n",
       "      <th>166</th>\n",
       "      <th>167</th>\n",
       "    </tr>\n",
       "  </thead>\n",
       "  <tbody>\n",
       "    <tr>\n",
       "      <th>count</th>\n",
       "      <td>269.0</td>\n",
       "      <td>269.000000</td>\n",
       "      <td>269.000000</td>\n",
       "      <td>269.000000</td>\n",
       "      <td>269.000000</td>\n",
       "      <td>269.000000</td>\n",
       "      <td>269.000000</td>\n",
       "      <td>269.000000</td>\n",
       "      <td>269.000000</td>\n",
       "      <td>269.000000</td>\n",
       "      <td>...</td>\n",
       "      <td>269.000000</td>\n",
       "      <td>269.000000</td>\n",
       "      <td>269.000000</td>\n",
       "      <td>269.000000</td>\n",
       "      <td>269.000000</td>\n",
       "      <td>269.000000</td>\n",
       "      <td>269.000000</td>\n",
       "      <td>269.000000</td>\n",
       "      <td>269.000000</td>\n",
       "      <td>269.000000</td>\n",
       "    </tr>\n",
       "    <tr>\n",
       "      <th>mean</th>\n",
       "      <td>0.0</td>\n",
       "      <td>73.052045</td>\n",
       "      <td>38.330855</td>\n",
       "      <td>-108.397770</td>\n",
       "      <td>-72.059480</td>\n",
       "      <td>22.550186</td>\n",
       "      <td>-112.085502</td>\n",
       "      <td>2.472119</td>\n",
       "      <td>-29.178439</td>\n",
       "      <td>9.687732</td>\n",
       "      <td>...</td>\n",
       "      <td>-210.858736</td>\n",
       "      <td>-204.698885</td>\n",
       "      <td>-103.137546</td>\n",
       "      <td>-18.070632</td>\n",
       "      <td>49.278810</td>\n",
       "      <td>91.940520</td>\n",
       "      <td>97.628253</td>\n",
       "      <td>-33.985130</td>\n",
       "      <td>-39.137546</td>\n",
       "      <td>36.724907</td>\n",
       "    </tr>\n",
       "    <tr>\n",
       "      <th>std</th>\n",
       "      <td>0.0</td>\n",
       "      <td>12.623313</td>\n",
       "      <td>18.992492</td>\n",
       "      <td>92.276241</td>\n",
       "      <td>74.828586</td>\n",
       "      <td>83.415400</td>\n",
       "      <td>30.598448</td>\n",
       "      <td>98.035804</td>\n",
       "      <td>113.033469</td>\n",
       "      <td>83.121916</td>\n",
       "      <td>...</td>\n",
       "      <td>81.853497</td>\n",
       "      <td>95.531713</td>\n",
       "      <td>125.865895</td>\n",
       "      <td>64.565126</td>\n",
       "      <td>89.279665</td>\n",
       "      <td>42.743379</td>\n",
       "      <td>54.028144</td>\n",
       "      <td>18.881399</td>\n",
       "      <td>65.833913</td>\n",
       "      <td>61.146559</td>\n",
       "    </tr>\n",
       "    <tr>\n",
       "      <th>min</th>\n",
       "      <td>0.0</td>\n",
       "      <td>48.000000</td>\n",
       "      <td>-9.000000</td>\n",
       "      <td>-199.000000</td>\n",
       "      <td>-166.000000</td>\n",
       "      <td>-115.000000</td>\n",
       "      <td>-117.000000</td>\n",
       "      <td>-184.000000</td>\n",
       "      <td>-170.000000</td>\n",
       "      <td>-231.000000</td>\n",
       "      <td>...</td>\n",
       "      <td>-250.000000</td>\n",
       "      <td>-324.000000</td>\n",
       "      <td>-217.000000</td>\n",
       "      <td>-134.000000</td>\n",
       "      <td>-124.000000</td>\n",
       "      <td>-18.000000</td>\n",
       "      <td>35.000000</td>\n",
       "      <td>-132.000000</td>\n",
       "      <td>-258.000000</td>\n",
       "      <td>-72.000000</td>\n",
       "    </tr>\n",
       "    <tr>\n",
       "      <th>25%</th>\n",
       "      <td>0.0</td>\n",
       "      <td>60.000000</td>\n",
       "      <td>31.000000</td>\n",
       "      <td>-191.000000</td>\n",
       "      <td>-141.000000</td>\n",
       "      <td>-51.000000</td>\n",
       "      <td>-117.000000</td>\n",
       "      <td>-85.000000</td>\n",
       "      <td>-160.000000</td>\n",
       "      <td>-8.000000</td>\n",
       "      <td>...</td>\n",
       "      <td>-240.000000</td>\n",
       "      <td>-272.000000</td>\n",
       "      <td>-207.000000</td>\n",
       "      <td>-39.000000</td>\n",
       "      <td>-24.000000</td>\n",
       "      <td>69.000000</td>\n",
       "      <td>59.000000</td>\n",
       "      <td>-42.000000</td>\n",
       "      <td>-36.000000</td>\n",
       "      <td>-20.000000</td>\n",
       "    </tr>\n",
       "    <tr>\n",
       "      <th>50%</th>\n",
       "      <td>0.0</td>\n",
       "      <td>79.000000</td>\n",
       "      <td>42.000000</td>\n",
       "      <td>-124.000000</td>\n",
       "      <td>-102.000000</td>\n",
       "      <td>28.000000</td>\n",
       "      <td>-117.000000</td>\n",
       "      <td>38.000000</td>\n",
       "      <td>33.000000</td>\n",
       "      <td>21.000000</td>\n",
       "      <td>...</td>\n",
       "      <td>-236.000000</td>\n",
       "      <td>-235.000000</td>\n",
       "      <td>-182.000000</td>\n",
       "      <td>-14.000000</td>\n",
       "      <td>54.000000</td>\n",
       "      <td>98.000000</td>\n",
       "      <td>80.000000</td>\n",
       "      <td>-36.000000</td>\n",
       "      <td>-20.000000</td>\n",
       "      <td>51.000000</td>\n",
       "    </tr>\n",
       "    <tr>\n",
       "      <th>75%</th>\n",
       "      <td>0.0</td>\n",
       "      <td>82.000000</td>\n",
       "      <td>49.000000</td>\n",
       "      <td>-27.000000</td>\n",
       "      <td>5.000000</td>\n",
       "      <td>109.000000</td>\n",
       "      <td>-116.000000</td>\n",
       "      <td>82.000000</td>\n",
       "      <td>50.000000</td>\n",
       "      <td>62.000000</td>\n",
       "      <td>...</td>\n",
       "      <td>-229.000000</td>\n",
       "      <td>-151.000000</td>\n",
       "      <td>37.000000</td>\n",
       "      <td>22.000000</td>\n",
       "      <td>136.000000</td>\n",
       "      <td>120.000000</td>\n",
       "      <td>113.000000</td>\n",
       "      <td>-27.000000</td>\n",
       "      <td>4.000000</td>\n",
       "      <td>88.000000</td>\n",
       "    </tr>\n",
       "    <tr>\n",
       "      <th>max</th>\n",
       "      <td>0.0</td>\n",
       "      <td>92.000000</td>\n",
       "      <td>130.000000</td>\n",
       "      <td>91.000000</td>\n",
       "      <td>83.000000</td>\n",
       "      <td>157.000000</td>\n",
       "      <td>238.000000</td>\n",
       "      <td>200.000000</td>\n",
       "      <td>214.000000</td>\n",
       "      <td>188.000000</td>\n",
       "      <td>...</td>\n",
       "      <td>141.000000</td>\n",
       "      <td>72.000000</td>\n",
       "      <td>173.000000</td>\n",
       "      <td>185.000000</td>\n",
       "      <td>253.000000</td>\n",
       "      <td>291.000000</td>\n",
       "      <td>302.000000</td>\n",
       "      <td>13.000000</td>\n",
       "      <td>39.000000</td>\n",
       "      <td>235.000000</td>\n",
       "    </tr>\n",
       "  </tbody>\n",
       "</table>\n",
       "<p>8 rows × 168 columns</p>\n",
       "</div>"
      ],
      "text/plain": [
       "       class      bag_id           2           3           4           5  \\\n",
       "count  269.0  269.000000  269.000000  269.000000  269.000000  269.000000   \n",
       "mean     0.0   73.052045   38.330855 -108.397770  -72.059480   22.550186   \n",
       "std      0.0   12.623313   18.992492   92.276241   74.828586   83.415400   \n",
       "min      0.0   48.000000   -9.000000 -199.000000 -166.000000 -115.000000   \n",
       "25%      0.0   60.000000   31.000000 -191.000000 -141.000000  -51.000000   \n",
       "50%      0.0   79.000000   42.000000 -124.000000 -102.000000   28.000000   \n",
       "75%      0.0   82.000000   49.000000  -27.000000    5.000000  109.000000   \n",
       "max      0.0   92.000000  130.000000   91.000000   83.000000  157.000000   \n",
       "\n",
       "                6           7           8           9  ...         158  \\\n",
       "count  269.000000  269.000000  269.000000  269.000000  ...  269.000000   \n",
       "mean  -112.085502    2.472119  -29.178439    9.687732  ... -210.858736   \n",
       "std     30.598448   98.035804  113.033469   83.121916  ...   81.853497   \n",
       "min   -117.000000 -184.000000 -170.000000 -231.000000  ... -250.000000   \n",
       "25%   -117.000000  -85.000000 -160.000000   -8.000000  ... -240.000000   \n",
       "50%   -117.000000   38.000000   33.000000   21.000000  ... -236.000000   \n",
       "75%   -116.000000   82.000000   50.000000   62.000000  ... -229.000000   \n",
       "max    238.000000  200.000000  214.000000  188.000000  ...  141.000000   \n",
       "\n",
       "              159         160         161         162         163         164  \\\n",
       "count  269.000000  269.000000  269.000000  269.000000  269.000000  269.000000   \n",
       "mean  -204.698885 -103.137546  -18.070632   49.278810   91.940520   97.628253   \n",
       "std     95.531713  125.865895   64.565126   89.279665   42.743379   54.028144   \n",
       "min   -324.000000 -217.000000 -134.000000 -124.000000  -18.000000   35.000000   \n",
       "25%   -272.000000 -207.000000  -39.000000  -24.000000   69.000000   59.000000   \n",
       "50%   -235.000000 -182.000000  -14.000000   54.000000   98.000000   80.000000   \n",
       "75%   -151.000000   37.000000   22.000000  136.000000  120.000000  113.000000   \n",
       "max     72.000000  173.000000  185.000000  253.000000  291.000000  302.000000   \n",
       "\n",
       "              165         166         167  \n",
       "count  269.000000  269.000000  269.000000  \n",
       "mean   -33.985130  -39.137546   36.724907  \n",
       "std     18.881399   65.833913   61.146559  \n",
       "min   -132.000000 -258.000000  -72.000000  \n",
       "25%    -42.000000  -36.000000  -20.000000  \n",
       "50%    -36.000000  -20.000000   51.000000  \n",
       "75%    -27.000000    4.000000   88.000000  \n",
       "max     13.000000   39.000000  235.000000  \n",
       "\n",
       "[8 rows x 168 columns]"
      ]
     },
     "execution_count": 8,
     "metadata": {},
     "output_type": "execute_result"
    }
   ],
   "source": [
    "df[df[\"class\"] == 0].describe()"
   ]
  },
  {
   "cell_type": "code",
   "execution_count": 9,
   "id": "3e811bed",
   "metadata": {},
   "outputs": [
    {
     "ename": "IndentationError",
     "evalue": "unexpected indent (Temp/ipykernel_12604/2567073663.py, line 2)",
     "output_type": "error",
     "traceback": [
      "\u001b[1;36m  File \u001b[1;32m\"C:\\Users\\a_kok\\AppData\\Local\\Temp/ipykernel_12604/2567073663.py\"\u001b[1;36m, line \u001b[1;32m2\u001b[0m\n\u001b[1;33m    data.sort_values(by = \"class\",inplace = True)\u001b[0m\n\u001b[1;37m    ^\u001b[0m\n\u001b[1;31mIndentationError\u001b[0m\u001b[1;31m:\u001b[0m unexpected indent\n"
     ]
    }
   ],
   "source": [
    "data.rename(columns = {0:\"class\"},inplace = True)\n",
    "data.sort_values(by = \"class\",inplace = True)\n",
    "data[\"id\"] = list(range(1,897))\n",
    "long_data = pd.melt(data, id_vars=['id',\"class\"])\n",
    "long_data = long_data.rename(columns = {\"variable\":\"time\"})\n",
    "long_data = long_data.sort_values(by = [\"id\",\"time\"]).reset_index(drop = True)"
   ]
  },
  {
   "cell_type": "code",
   "execution_count": 12,
   "id": "cb725e19",
   "metadata": {},
   "outputs": [],
   "source": [
    "df_long = df.copy()"
   ]
  },
  {
   "cell_type": "code",
   "execution_count": 13,
   "id": "fc97f8a0",
   "metadata": {},
   "outputs": [],
   "source": [
    "df_long[\"id\"] = list(range(1,477))"
   ]
  },
  {
   "cell_type": "code",
   "execution_count": 132,
   "id": "3dd936f7",
   "metadata": {},
   "outputs": [
    {
     "data": {
      "text/html": [
       "<div>\n",
       "<style scoped>\n",
       "    .dataframe tbody tr th:only-of-type {\n",
       "        vertical-align: middle;\n",
       "    }\n",
       "\n",
       "    .dataframe tbody tr th {\n",
       "        vertical-align: top;\n",
       "    }\n",
       "\n",
       "    .dataframe thead th {\n",
       "        text-align: right;\n",
       "    }\n",
       "</style>\n",
       "<table border=\"1\" class=\"dataframe\">\n",
       "  <thead>\n",
       "    <tr style=\"text-align: right;\">\n",
       "      <th></th>\n",
       "      <th>id</th>\n",
       "      <th>class</th>\n",
       "      <th>bag_id</th>\n",
       "      <th>variable</th>\n",
       "      <th>value</th>\n",
       "    </tr>\n",
       "  </thead>\n",
       "  <tbody>\n",
       "    <tr>\n",
       "      <th>0</th>\n",
       "      <td>1</td>\n",
       "      <td>1</td>\n",
       "      <td>1</td>\n",
       "      <td>2</td>\n",
       "      <td>42</td>\n",
       "    </tr>\n",
       "    <tr>\n",
       "      <th>1</th>\n",
       "      <td>1</td>\n",
       "      <td>1</td>\n",
       "      <td>1</td>\n",
       "      <td>3</td>\n",
       "      <td>-198</td>\n",
       "    </tr>\n",
       "    <tr>\n",
       "      <th>2</th>\n",
       "      <td>1</td>\n",
       "      <td>1</td>\n",
       "      <td>1</td>\n",
       "      <td>4</td>\n",
       "      <td>-109</td>\n",
       "    </tr>\n",
       "    <tr>\n",
       "      <th>3</th>\n",
       "      <td>1</td>\n",
       "      <td>1</td>\n",
       "      <td>1</td>\n",
       "      <td>5</td>\n",
       "      <td>-75</td>\n",
       "    </tr>\n",
       "    <tr>\n",
       "      <th>4</th>\n",
       "      <td>1</td>\n",
       "      <td>1</td>\n",
       "      <td>1</td>\n",
       "      <td>6</td>\n",
       "      <td>-117</td>\n",
       "    </tr>\n",
       "  </tbody>\n",
       "</table>\n",
       "</div>"
      ],
      "text/plain": [
       "   id  class  bag_id variable  value\n",
       "0   1      1       1        2     42\n",
       "1   1      1       1        3   -198\n",
       "2   1      1       1        4   -109\n",
       "3   1      1       1        5    -75\n",
       "4   1      1       1        6   -117"
      ]
     },
     "execution_count": 132,
     "metadata": {},
     "output_type": "execute_result"
    }
   ],
   "source": [
    "df_long.head()"
   ]
  },
  {
   "cell_type": "code",
   "execution_count": 15,
   "id": "9f33dfac",
   "metadata": {},
   "outputs": [],
   "source": [
    "df_long = pd.melt(df_long, id_vars=['id',\"class\",\"bag_id\"])"
   ]
  },
  {
   "cell_type": "code",
   "execution_count": 16,
   "id": "f5db4825",
   "metadata": {},
   "outputs": [],
   "source": [
    "df_long = df_long.sort_values(by = [\"id\",\"variable\"]).reset_index(drop = True)"
   ]
  },
  {
   "cell_type": "code",
   "execution_count": 131,
   "id": "3e1f9825",
   "metadata": {},
   "outputs": [
    {
     "data": {
      "text/html": [
       "<div>\n",
       "<style scoped>\n",
       "    .dataframe tbody tr th:only-of-type {\n",
       "        vertical-align: middle;\n",
       "    }\n",
       "\n",
       "    .dataframe tbody tr th {\n",
       "        vertical-align: top;\n",
       "    }\n",
       "\n",
       "    .dataframe thead th {\n",
       "        text-align: right;\n",
       "    }\n",
       "</style>\n",
       "<table border=\"1\" class=\"dataframe\">\n",
       "  <thead>\n",
       "    <tr style=\"text-align: right;\">\n",
       "      <th></th>\n",
       "      <th>id</th>\n",
       "      <th>class</th>\n",
       "      <th>bag_id</th>\n",
       "      <th>variable</th>\n",
       "      <th>value</th>\n",
       "    </tr>\n",
       "  </thead>\n",
       "  <tbody>\n",
       "    <tr>\n",
       "      <th>34362</th>\n",
       "      <td>208</td>\n",
       "      <td>0</td>\n",
       "      <td>48</td>\n",
       "      <td>2</td>\n",
       "      <td>40</td>\n",
       "    </tr>\n",
       "    <tr>\n",
       "      <th>34363</th>\n",
       "      <td>208</td>\n",
       "      <td>0</td>\n",
       "      <td>48</td>\n",
       "      <td>3</td>\n",
       "      <td>-39</td>\n",
       "    </tr>\n",
       "    <tr>\n",
       "      <th>34364</th>\n",
       "      <td>208</td>\n",
       "      <td>0</td>\n",
       "      <td>48</td>\n",
       "      <td>4</td>\n",
       "      <td>30</td>\n",
       "    </tr>\n",
       "    <tr>\n",
       "      <th>34365</th>\n",
       "      <td>208</td>\n",
       "      <td>0</td>\n",
       "      <td>48</td>\n",
       "      <td>5</td>\n",
       "      <td>-113</td>\n",
       "    </tr>\n",
       "    <tr>\n",
       "      <th>34366</th>\n",
       "      <td>208</td>\n",
       "      <td>0</td>\n",
       "      <td>48</td>\n",
       "      <td>6</td>\n",
       "      <td>-115</td>\n",
       "    </tr>\n",
       "  </tbody>\n",
       "</table>\n",
       "</div>"
      ],
      "text/plain": [
       "        id  class  bag_id variable  value\n",
       "34362  208      0      48        2     40\n",
       "34363  208      0      48        3    -39\n",
       "34364  208      0      48        4     30\n",
       "34365  208      0      48        5   -113\n",
       "34366  208      0      48        6   -115"
      ]
     },
     "execution_count": 131,
     "metadata": {},
     "output_type": "execute_result"
    }
   ],
   "source": [
    "df_long[df_long[\"class\"] == 0].head()"
   ]
  },
  {
   "cell_type": "code",
   "execution_count": 20,
   "id": "679ed043",
   "metadata": {},
   "outputs": [
    {
     "data": {
      "image/png": "[encoded data removed]",
      "text/plain": [
       "<Figure size 432x288 with 1 Axes>"
      ]
     },
     "metadata": {
      "needs_background": "light"
     },
     "output_type": "display_data"
    }
   ],
   "source": [
    "fig = plt.figure() \n",
    "ax = fig.add_subplot(111)\n",
    "ax.plot(df_long[df_long[\"id\"] == 1].index,df_long[df_long[\"id\"] == 1][\"value\"],label = \"class 1\")\n",
    "ax.plot(df_long[df_long[\"id\"] == 1].index,df_long[df_long[\"id\"] == 208][\"value\"],label = \"class 0\")\n",
    "ax.legend()\n",
    "ax.set(title= \"Data Points\",\n",
    "      xlabel = \"x coordinates\",\n",
    "      ylabel = \"y coordinates\")\n",
    "\n",
    "plt.show()"
   ]
  },
  {
   "cell_type": "code",
   "execution_count": 21,
   "id": "66e54588",
   "metadata": {},
   "outputs": [
    {
     "data": {
      "image/png": "[encoded data removed]",
      "text/plain": [
       "<Figure size 432x288 with 1 Axes>"
      ]
     },
     "metadata": {
      "needs_background": "light"
     },
     "output_type": "display_data"
    }
   ],
   "source": [
    "fig = plt.figure()\n",
    "ax = fig.add_subplot(111)\n",
    "ax.plot(df_long[df_long[\"id\"] == 1].index,df_long[df_long[\"id\"] == 10][\"value\"],label = \"class 1\")\n",
    "ax.plot(df_long[df_long[\"id\"] == 1].index,df_long[df_long[\"id\"] == 218][\"value\"],label = \"class 0\")\n",
    "ax.legend()\n",
    "ax.set(title= \"Data Points\",\n",
    "      xlabel = \"x coordinates\",\n",
    "      ylabel = \"y coordinates\")\n",
    "\n",
    "plt.show()"
   ]
  },
  {
   "cell_type": "code",
   "execution_count": 23,
   "id": "3a464289",
   "metadata": {},
   "outputs": [
    {
     "data": {
      "image/png": "[encoded data removed]",
      "text/plain": [
       "<Figure size 432x288 with 1 Axes>"
      ]
     },
     "metadata": {
      "needs_background": "light"
     },
     "output_type": "display_data"
    }
   ],
   "source": [
    "fig = plt.figure()\n",
    "ax = fig.add_subplot(111)\n",
    "ax.plot(df_long[df_long[\"id\"] == 1].index,df_long[df_long[\"id\"] == 21][\"value\"],label = \"class 1\")\n",
    "ax.plot(df_long[df_long[\"id\"] == 1].index,df_long[df_long[\"id\"] == 228][\"value\"],label = \"class 0\")\n",
    "ax.legend()\n",
    "ax.set(title= \"Data Points\",\n",
    "      xlabel = \"x coordinates\",\n",
    "      ylabel = \"y coordinates\")\n",
    "\n",
    "plt.show()"
   ]
  },
  {
   "cell_type": "code",
   "execution_count": 24,
   "id": "b9e83373",
   "metadata": {},
   "outputs": [
    {
     "data": {
      "image/png": "[encoded data removed]",
      "text/plain": [
       "<Figure size 432x288 with 1 Axes>"
      ]
     },
     "metadata": {
      "needs_background": "light"
     },
     "output_type": "display_data"
    }
   ],
   "source": [
    "fig = plt.figure()\n",
    "ax = fig.add_subplot(111)\n",
    "ax.plot(df_long[df_long[\"id\"] == 1].index,df_long[df_long[\"id\"] == 31][\"value\"],label = \"class 1\")\n",
    "ax.plot(df_long[df_long[\"id\"] == 1].index,df_long[df_long[\"id\"] == 238][\"value\"],label = \"class 0\")\n",
    "ax.legend()\n",
    "ax.set(title= \"Data Points\",\n",
    "      xlabel = \"x coordinates\",\n",
    "      ylabel = \"y coordinates\")\n",
    "\n",
    "plt.show()"
   ]
  },
  {
   "cell_type": "code",
   "execution_count": 43,
   "id": "92db61c8",
   "metadata": {},
   "outputs": [],
   "source": [
    "df_std = df.groupby(by = \"bag_id\").std()"
   ]
  },
  {
   "cell_type": "code",
   "execution_count": 98,
   "id": "bef3659a",
   "metadata": {},
   "outputs": [],
   "source": [
    "train_labels = df.groupby(by = \"bag_id\").mean()[\"class\"]"
   ]
  },
  {
   "cell_type": "code",
   "execution_count": 45,
   "id": "faf99129",
   "metadata": {},
   "outputs": [],
   "source": [
    "df_std = df_std.drop(columns = \"class\")"
   ]
  },
  {
   "cell_type": "code",
   "execution_count": 47,
   "id": "07ca5874",
   "metadata": {},
   "outputs": [],
   "source": [
    "train_features = df_std"
   ]
  },
  {
   "cell_type": "markdown",
   "id": "b8428d49",
   "metadata": {},
   "source": [
    "#### First we wanted to try standart deviation bag representation. We though that standart deviation of class 1 points are lower than class 2 points."
   ]
  },
  {
   "cell_type": "code",
   "execution_count": 67,
   "id": "3d4aed87",
   "metadata": {},
   "outputs": [],
   "source": [
    "# Number of trees in random forest\n",
    "n_estimators = [int(x) for x in np.linspace(start = 50, stop = 100, num = 10)]\n",
    "# Number of features to consider at every split\n",
    "max_features = ['auto', 'sqrt']\n",
    "# Maximum number of levels in tree\n",
    "max_depth = [int(x) for x in np.linspace(10, 110, num = 11)]\n",
    "max_depth.append(None)\n",
    "# Minimum number of samples required to split a node\n",
    "min_samples_split = [2, 5, 10]\n",
    "# Minimum number of samples required at each leaf node\n",
    "min_samples_leaf = [1, 2, 4]\n",
    "# Method of selecting samples for training each tree\n",
    "bootstrap = [True, False]\n",
    "# Create the random grid\n",
    "random_grid = {'n_estimators': n_estimators,\n",
    "               'max_features': max_features,\n",
    "               'max_depth': max_depth,\n",
    "               'min_samples_split': min_samples_split,\n",
    "               'min_samples_leaf': min_samples_leaf,\n",
    "               'bootstrap': bootstrap}"
   ]
  },
  {
   "cell_type": "code",
   "execution_count": 101,
   "id": "a8da4027",
   "metadata": {},
   "outputs": [
    {
     "name": "stdout",
     "output_type": "stream",
     "text": [
      "Fitting 10 folds for each of 100 candidates, totalling 1000 fits\n"
     ]
    }
   ],
   "source": [
    "# Use the random grid to search for best hyperparameters\n",
    "# First create the base model to tune\n",
    "rf = RandomForestClassifier()\n",
    "# Random search of parameters, using 3 fold cross validation, \n",
    "# search across 100 different combinations, and use all available cores\n",
    "rf_cv = RandomizedSearchCV(estimator = rf, param_distributions = random_grid, n_iter = 100,scoring = \"accuracy\", cv = 10, verbose=1, random_state=42)\n",
    "# Fit the random search model\n",
    "rf_fit = rf_cv.fit(train_features, train_labels)"
   ]
  },
  {
   "cell_type": "markdown",
   "id": "11038197",
   "metadata": {},
   "source": [
    "#### Random forest classifier with the following parameters gave us the best accuracy score 0.728 which does not seem very successful"
   ]
  },
  {
   "cell_type": "code",
   "execution_count": 102,
   "id": "97ae9862",
   "metadata": {},
   "outputs": [
    {
     "data": {
      "text/plain": [
       "0.7288888888888889"
      ]
     },
     "execution_count": 102,
     "metadata": {},
     "output_type": "execute_result"
    }
   ],
   "source": [
    "rf_fit.best_score_"
   ]
  },
  {
   "cell_type": "code",
   "execution_count": 103,
   "id": "378e1986",
   "metadata": {},
   "outputs": [
    {
     "data": {
      "text/plain": [
       "RandomForestClassifier(bootstrap=False, max_depth=20, max_features='sqrt',\n",
       "                       min_samples_leaf=2, min_samples_split=10,\n",
       "                       n_estimators=66)"
      ]
     },
     "execution_count": 103,
     "metadata": {},
     "output_type": "execute_result"
    }
   ],
   "source": [
    "rf_fit.best_estimator_"
   ]
  },
  {
   "cell_type": "code",
   "execution_count": 110,
   "id": "239ce987",
   "metadata": {},
   "outputs": [
    {
     "name": "stdout",
     "output_type": "stream",
     "text": [
      "Fitting 10 folds for each of 72 candidates, totalling 720 fits\n"
     ]
    }
   ],
   "source": [
    "param_grid = {'C': [0.0001, 0.001, 0.01, 0.1, 1, 5, 10, 100],\n",
    "             'kernel': ['linear','poly','rbf'],\n",
    "             'degree': [5,6,7]}\n",
    " \n",
    "grid = GridSearchCV(SVC(), param_grid, scoring='accuracy', cv=10, verbose=1)\n",
    " \n",
    "# fitting the model for grid search\n",
    "grid_fit = grid.fit(train_features, train_labels)"
   ]
  },
  {
   "cell_type": "markdown",
   "id": "71cfce10",
   "metadata": {},
   "source": [
    "#### Support vector machine with the following best parameters among the parameter grid gave us a accuracy score 0.7356 which seems better than random forest classifier."
   ]
  },
  {
   "cell_type": "code",
   "execution_count": 111,
   "id": "9ca6aa94",
   "metadata": {},
   "outputs": [
    {
     "data": {
      "text/plain": [
       "0.7355555555555556"
      ]
     },
     "execution_count": 111,
     "metadata": {},
     "output_type": "execute_result"
    }
   ],
   "source": [
    "grid_fit.best_score_"
   ]
  },
  {
   "cell_type": "code",
   "execution_count": 112,
   "id": "74028720",
   "metadata": {},
   "outputs": [
    {
     "data": {
      "text/plain": [
       "SVC(C=5, degree=5)"
      ]
     },
     "execution_count": 112,
     "metadata": {},
     "output_type": "execute_result"
    }
   ],
   "source": [
    "grid_fit.best_estimator_"
   ]
  },
  {
   "cell_type": "markdown",
   "id": "ff248005",
   "metadata": {},
   "source": [
    "#### Second we wanted to try range  bag representation. We though that range of class 1 points are lower than class 2 points."
   ]
  },
  {
   "cell_type": "code",
   "execution_count": 119,
   "id": "8a070286",
   "metadata": {},
   "outputs": [],
   "source": [
    "df_max = df.groupby(by = \"bag_id\").max()\n",
    "df_min = df.groupby(by = \"bag_id\").min()\n",
    "df_max = df_max.drop(columns = \"class\")\n",
    "df_min = df_min.drop(columns = \"class\")"
   ]
  },
  {
   "cell_type": "code",
   "execution_count": 120,
   "id": "e5576f9c",
   "metadata": {},
   "outputs": [],
   "source": [
    "df_range = df_max - df_min"
   ]
  },
  {
   "cell_type": "code",
   "execution_count": 122,
   "id": "fee64cc2",
   "metadata": {},
   "outputs": [],
   "source": [
    "train_features = df_range"
   ]
  },
  {
   "cell_type": "code",
   "execution_count": 123,
   "id": "03ca7823",
   "metadata": {},
   "outputs": [
    {
     "name": "stdout",
     "output_type": "stream",
     "text": [
      "Fitting 10 folds for each of 100 candidates, totalling 1000 fits\n"
     ]
    }
   ],
   "source": [
    "# Use the random grid to search for best hyperparameters\n",
    "# First create the base model to tune\n",
    "rf = RandomForestClassifier()\n",
    "# Random search of parameters, using 3 fold cross validation, \n",
    "# search across 100 different combinations, and use all available cores\n",
    "rf_cv = RandomizedSearchCV(estimator = rf, param_distributions = random_grid, n_iter = 100,scoring = \"accuracy\", cv = 10, verbose=1, random_state=42)\n",
    "# Fit the random search model\n",
    "rf_fit = rf_cv.fit(train_features, train_labels)"
   ]
  },
  {
   "cell_type": "markdown",
   "id": "f93fbc91",
   "metadata": {},
   "source": [
    "#### Random forest classifier with the following parameters gave us the best accuracy score 0.722 which does not seem very successful"
   ]
  },
  {
   "cell_type": "code",
   "execution_count": 124,
   "id": "8118da0b",
   "metadata": {},
   "outputs": [
    {
     "data": {
      "text/plain": [
       "0.7222222222222223"
      ]
     },
     "execution_count": 124,
     "metadata": {},
     "output_type": "execute_result"
    }
   ],
   "source": [
    "rf_fit.best_score_"
   ]
  },
  {
   "cell_type": "code",
   "execution_count": 125,
   "id": "8b806931",
   "metadata": {},
   "outputs": [
    {
     "data": {
      "text/plain": [
       "RandomForestClassifier(max_depth=80, max_features='sqrt', min_samples_leaf=2,\n",
       "                       min_samples_split=10, n_estimators=83)"
      ]
     },
     "execution_count": 125,
     "metadata": {},
     "output_type": "execute_result"
    }
   ],
   "source": [
    "rf_fit.best_estimator_"
   ]
  },
  {
   "cell_type": "code",
   "execution_count": 126,
   "id": "d2f2580a",
   "metadata": {},
   "outputs": [
    {
     "name": "stdout",
     "output_type": "stream",
     "text": [
      "Fitting 10 folds for each of 72 candidates, totalling 720 fits\n"
     ]
    }
   ],
   "source": [
    "param_grid = {'C': [0.0001, 0.001, 0.01, 0.1, 1, 5, 10, 100],\n",
    "             'kernel': ['linear','poly','rbf'],\n",
    "             'degree': [5,6,7]}\n",
    " \n",
    "grid = GridSearchCV(SVC(), param_grid, scoring='accuracy', cv=10, verbose=1)\n",
    " \n",
    "# fitting the model for grid search\n",
    "grid_fit = grid.fit(train_features, train_labels)"
   ]
  },
  {
   "cell_type": "markdown",
   "id": "342c0574",
   "metadata": {},
   "source": [
    "#### Support vector machine with the following best parameters among the parameter grid gave us a accuracy score 0.7278 which seems better than random forest classifier."
   ]
  },
  {
   "cell_type": "code",
   "execution_count": 127,
   "id": "54633785",
   "metadata": {},
   "outputs": [
    {
     "data": {
      "text/plain": [
       "0.7277777777777777"
      ]
     },
     "execution_count": 127,
     "metadata": {},
     "output_type": "execute_result"
    }
   ],
   "source": [
    "grid_fit.best_score_"
   ]
  },
  {
   "cell_type": "code",
   "execution_count": 128,
   "id": "f14f6892",
   "metadata": {},
   "outputs": [
    {
     "data": {
      "text/plain": [
       "SVC(C=10, degree=5)"
      ]
     },
     "execution_count": 128,
     "metadata": {},
     "output_type": "execute_result"
    }
   ],
   "source": [
    "grid_fit.best_estimator_"
   ]
  },
  {
   "cell_type": "markdown",
   "id": "289747c8",
   "metadata": {},
   "source": [
    "To conclude, we tried range and standart deviation bag representation on musk dataset. They dont gave us much good results but still it may be useful to use in predictions. We used randomclassifier and support vector machine methods. We get better results with the support vector machine result. In future, we can try more complex representations."
   ]
  }
 ],
 "metadata": {
  "kernelspec": {
   "display_name": "Python 3 (ipykernel)",
   "language": "python",
   "name": "python3"
  },
  "language_info": {
   "codemirror_mode": {
    "name": "ipython",
    "version": 3
   },
   "file_extension": ".py",
   "mimetype": "text/x-python",
   "name": "python",
   "nbconvert_exporter": "python",
   "pygments_lexer": "ipython3",
   "version": "3.8.12"
  }
 },
 "nbformat": 4,
 "nbformat_minor": 5
}
